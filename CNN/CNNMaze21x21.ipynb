{
 "cells": [
  {
   "cell_type": "markdown",
   "metadata": {},
   "source": [
    "### 1. Load data"
   ]
  },
  {
   "cell_type": "code",
   "execution_count": 48,
   "metadata": {},
   "outputs": [],
   "source": [
    "import torch\n",
    "import torchvision\n",
    "import torchvision.transforms as transforms\n",
    "import matplotlib.pyplot as plt\n",
    "from torchsummary import summary\n",
    "import math\n",
    "from datasets import Dataset, Features, Array2D, Value, load_dataset, load_from_disk"
   ]
  },
  {
   "cell_type": "code",
   "execution_count": 49,
   "metadata": {},
   "outputs": [
    {
     "name": "stdout",
     "output_type": "stream",
     "text": [
      "(300000, 3)\n",
      "{'data': tensor([[1, 1, 1, 1, 1, 1, 1, 1, 1, 1, 1, 1, 1, 1, 1, 1, 1, 1, 1, 1, 1],\n",
      "        [1, 2, 0, 0, 1, 0, 0, 0, 1, 0, 0, 0, 0, 0, 1, 0, 0, 0, 1, 0, 1],\n",
      "        [1, 0, 1, 0, 1, 1, 1, 0, 1, 0, 1, 1, 1, 1, 1, 0, 1, 0, 1, 0, 1],\n",
      "        [1, 0, 1, 0, 0, 0, 0, 0, 1, 0, 1, 0, 1, 0, 0, 0, 1, 0, 0, 0, 1],\n",
      "        [1, 0, 1, 0, 1, 1, 1, 1, 1, 0, 1, 0, 1, 0, 1, 1, 1, 1, 1, 1, 1],\n",
      "        [1, 0, 1, 0, 0, 0, 1, 0, 0, 0, 0, 0, 0, 0, 1, 0, 0, 0, 0, 0, 1],\n",
      "        [1, 0, 1, 1, 1, 0, 1, 0, 1, 1, 1, 1, 1, 1, 1, 0, 1, 1, 1, 0, 1],\n",
      "        [1, 0, 1, 0, 0, 0, 1, 0, 1, 0, 0, 0, 0, 0, 0, 0, 1, 0, 0, 0, 1],\n",
      "        [1, 0, 1, 1, 1, 1, 1, 0, 1, 1, 1, 0, 1, 1, 1, 1, 1, 0, 1, 1, 1],\n",
      "        [1, 0, 0, 0, 0, 0, 1, 0, 0, 0, 1, 0, 1, 0, 0, 0, 0, 0, 1, 0, 1],\n",
      "        [1, 1, 1, 1, 1, 0, 1, 1, 1, 0, 1, 1, 1, 0, 1, 0, 1, 1, 1, 0, 1],\n",
      "        [1, 0, 0, 0, 1, 0, 0, 0, 0, 0, 1, 0, 0, 0, 1, 0, 0, 0, 1, 0, 1],\n",
      "        [1, 0, 1, 0, 1, 1, 1, 0, 1, 0, 1, 0, 1, 1, 1, 1, 1, 0, 1, 0, 1],\n",
      "        [1, 0, 1, 0, 1, 0, 0, 0, 1, 0, 1, 0, 1, 0, 0, 0, 1, 0, 1, 0, 1],\n",
      "        [1, 0, 1, 0, 1, 0, 1, 1, 1, 0, 1, 0, 1, 1, 1, 0, 1, 0, 1, 0, 1],\n",
      "        [1, 0, 1, 0, 0, 0, 1, 0, 0, 0, 1, 0, 1, 0, 0, 0, 1, 0, 1, 0, 1],\n",
      "        [1, 0, 1, 1, 1, 1, 1, 1, 1, 0, 1, 0, 1, 0, 1, 1, 1, 0, 1, 0, 1],\n",
      "        [1, 0, 0, 0, 1, 0, 0, 0, 1, 0, 1, 0, 1, 0, 0, 0, 0, 0, 1, 0, 1],\n",
      "        [1, 0, 1, 1, 1, 0, 1, 0, 1, 1, 1, 0, 1, 0, 1, 0, 1, 1, 1, 0, 1],\n",
      "        [1, 0, 0, 0, 0, 0, 1, 0, 0, 0, 0, 0, 1, 0, 1, 0, 0, 0, 0, 0, 1],\n",
      "        [1, 1, 1, 1, 1, 1, 1, 1, 1, 1, 1, 1, 1, 1, 1, 1, 1, 1, 1, 1, 1]]), 'filename': '21HnKgridsize_1_step0_DOWN', 'label': tensor(4)}\n"
     ]
    }
   ],
   "source": [
    "loaded_data = load_from_disk(\n",
    "        \"/Users/yijiachen/Desktop/50.021 Artificial Intelligence/Project/code/code-repo/dataset/even_label/21x21_train.hf\"\n",
    "    ).with_format(\"torch\")\n",
    "\n",
    "print(loaded_data.shape)\n",
    "print(loaded_data[0])"
   ]
  },
  {
   "cell_type": "code",
   "execution_count": 50,
   "metadata": {},
   "outputs": [],
   "source": [
    "batch_size = 16\n",
    "train_set_size = math.floor(0.8*loaded_data.shape[0])\n",
    "train_set, val_set = torch.utils.data.random_split(loaded_data, [train_set_size, loaded_data.shape[0] - train_set_size])\n",
    "trainLoader = torch.utils.data.DataLoader(train_set, batch_size=16, shuffle=True)\n",
    "testLoader = torch.utils.data.DataLoader(val_set, batch_size=16, shuffle=False)\n",
    "\n",
    "classes = ('END', 'LEFT', 'RIGHT', 'UP', 'DOWN')"
   ]
  },
  {
   "cell_type": "markdown",
   "metadata": {},
   "source": [
    "test the dataloader"
   ]
  },
  {
   "cell_type": "code",
   "execution_count": 51,
   "metadata": {},
   "outputs": [
    {
     "data": {
      "text/plain": [
       "(tensor(1), tensor(4), tensor(2), tensor(3))"
      ]
     },
     "execution_count": 51,
     "metadata": {},
     "output_type": "execute_result"
    },
    {
     "data": {
      "image/png": "[encoded data removed]",
      "text/plain": [
       "<Figure size 640x480 with 4 Axes>"
      ]
     },
     "metadata": {},
     "output_type": "display_data"
    }
   ],
   "source": [
    "# test the dataloader\n",
    "dataiter = iter(trainLoader)\n",
    "this_iter = next(dataiter)\n",
    "this_iter['data'], this_iter['label']\n",
    "# mazes, filenames, labels = next(dataiter)\n",
    "# mazes\n",
    "# this_iter\n",
    "\n",
    "fig, axes = plt.subplots(1,4)\n",
    "axes[0].imshow(this_iter['data'][0].numpy(), cmap='binary')\n",
    "axes[1].imshow(this_iter['data'][1].numpy(), cmap='binary')\n",
    "axes[2].imshow(this_iter['data'][2].numpy(), cmap='binary')\n",
    "axes[3].imshow(this_iter['data'][3].numpy(), cmap='binary')\n",
    "\n",
    "this_iter['label'][0], this_iter['label'][1], this_iter['label'][2], this_iter['label'][3]"
   ]
  },
  {
   "cell_type": "markdown",
   "metadata": {},
   "source": [
    "### 2. Define a Convolutional Neural Network"
   ]
  },
  {
   "cell_type": "code",
   "execution_count": 52,
   "metadata": {},
   "outputs": [
    {
     "name": "stdout",
     "output_type": "stream",
     "text": [
      "Net(\n",
      "  (conv1): Conv2d(1, 6, kernel_size=(6, 6), stride=(1, 1))\n",
      "  (pool): MaxPool2d(kernel_size=2, stride=2, padding=0, dilation=1, ceil_mode=False)\n",
      "  (conv2): Conv2d(6, 16, kernel_size=(7, 7), stride=(1, 1))\n",
      "  (fc1): Linear(in_features=16, out_features=120, bias=True)\n",
      "  (fc2): Linear(in_features=120, out_features=84, bias=True)\n",
      "  (fc3): Linear(in_features=84, out_features=5, bias=True)\n",
      ")\n",
      "----------------------------------------------------------------\n",
      "        Layer (type)               Output Shape         Param #\n",
      "================================================================\n",
      "            Conv2d-1            [-1, 6, 16, 16]             222\n",
      "         MaxPool2d-2              [-1, 6, 8, 8]               0\n",
      "            Conv2d-3             [-1, 16, 2, 2]           4,720\n",
      "         MaxPool2d-4             [-1, 16, 1, 1]               0\n",
      "            Linear-5                  [-1, 120]           2,040\n",
      "            Linear-6                   [-1, 84]          10,164\n",
      "            Linear-7                    [-1, 5]             425\n",
      "================================================================\n",
      "Total params: 17,571\n",
      "Trainable params: 17,571\n",
      "Non-trainable params: 0\n",
      "----------------------------------------------------------------\n",
      "Input size (MB): 0.00\n",
      "Forward/backward pass size (MB): 0.02\n",
      "Params size (MB): 0.07\n",
      "Estimated Total Size (MB): 0.09\n",
      "----------------------------------------------------------------\n"
     ]
    }
   ],
   "source": [
    "import torch.nn as nn\n",
    "import torch.nn.functional as F\n",
    "\n",
    "\n",
    "class Net(nn.Module):\n",
    "    def __init__(self):\n",
    "        super().__init__()\n",
    "        self.conv1 = nn.Conv2d(1, 6, 6)\n",
    "        self.pool = nn.MaxPool2d(2, 2)\n",
    "        self.conv2 = nn.Conv2d(6, 16, 7)\n",
    "        \n",
    "        self.fc1 = nn.Linear(16 * 1 * 1, 120)\n",
    "        self.fc2 = nn.Linear(120, 84)\n",
    "        self.fc3 = nn.Linear(84, 5)\n",
    "\n",
    "    def forward(self, x):\n",
    "        x = self.pool(F.relu(self.conv1(x)))\n",
    "        x = self.pool(F.relu(self.conv2(x)))\n",
    "        x = torch.flatten(x, 1) # flatten all dimensions except batch\n",
    "        x = F.relu(self.fc1(x))\n",
    "        x = F.relu(self.fc2(x))\n",
    "        x = self.fc3(x)\n",
    "        return x\n",
    "\n",
    "\n",
    "net = Net()\n",
    "print(net)\n",
    "n = 21\n",
    "summary(net, (1,n,n))"
   ]
  },
  {
   "cell_type": "markdown",
   "metadata": {},
   "source": [
    "### 3. Define a Loss function and optimizer"
   ]
  },
  {
   "cell_type": "code",
   "execution_count": 53,
   "metadata": {},
   "outputs": [],
   "source": [
    "import torch.optim as optim\n",
    "criterion = nn.CrossEntropyLoss()\n",
    "optimizer = optim.SGD(net.parameters(), lr=0.001, momentum=0.9)"
   ]
  },
  {
   "cell_type": "markdown",
   "metadata": {},
   "source": [
    "### 4. Train the network"
   ]
  },
  {
   "cell_type": "code",
   "execution_count": 54,
   "metadata": {},
   "outputs": [
    {
     "name": "stdout",
     "output_type": "stream",
     "text": [
      "[1,  2000] loss: 1.610\n",
      "[1,  4000] loss: 1.609\n",
      "[1,  6000] loss: 1.608\n",
      "[1,  8000] loss: 1.393\n",
      "[1, 10000] loss: 1.124\n",
      "[1, 12000] loss: 1.108\n",
      "[1, 14000] loss: 1.110\n",
      "[2,  2000] loss: 1.103\n",
      "[2,  4000] loss: 1.089\n",
      "[2,  6000] loss: 1.072\n",
      "[2,  8000] loss: 1.062\n",
      "[2, 10000] loss: 1.051\n",
      "[2, 12000] loss: 1.038\n",
      "[2, 14000] loss: 1.031\n",
      "[3,  2000] loss: 1.013\n",
      "[3,  4000] loss: 0.999\n",
      "[3,  6000] loss: 0.985\n",
      "[3,  8000] loss: 0.951\n",
      "[3, 10000] loss: 0.880\n",
      "[3, 12000] loss: 0.804\n",
      "[3, 14000] loss: 0.737\n",
      "[4,  2000] loss: 0.670\n",
      "[4,  4000] loss: 0.630\n",
      "[4,  6000] loss: 0.607\n",
      "[4,  8000] loss: 0.585\n",
      "[4, 10000] loss: 0.576\n",
      "[4, 12000] loss: 0.558\n",
      "[4, 14000] loss: 0.553\n",
      "[5,  2000] loss: 0.516\n",
      "[5,  4000] loss: 0.518\n",
      "[5,  6000] loss: 0.499\n",
      "[5,  8000] loss: 0.500\n",
      "[5, 10000] loss: 0.497\n",
      "[5, 12000] loss: 0.488\n",
      "[5, 14000] loss: 0.486\n",
      "Finished Training\n"
     ]
    }
   ],
   "source": [
    "\n",
    "losslist = []\n",
    "for epoch in range(5):  # loop over the dataset multiple times\n",
    "\n",
    "    running_loss = 0.0\n",
    "    for i, current_data in enumerate(trainLoader, 0):\n",
    "    # for i, data in enumerate(trainLoader, 0):\n",
    "        # get the inputs; data is a list of [inputs, labels]\n",
    "        # inputs, labels = data\n",
    "        # print(current_data)\n",
    "        inputs = current_data[\"data\"].float().reshape(-1, 1, n, n)\n",
    "        # print(inputs.shape)\n",
    "        labels = current_data[\"label\"]\n",
    "\n",
    "        # zero the parameter gradients\n",
    "        optimizer.zero_grad()\n",
    "\n",
    "        # forward + backward + optimize\n",
    "        outputs = net(inputs)\n",
    "        loss = criterion(outputs, labels)\n",
    "        loss.backward()\n",
    "        optimizer.step()\n",
    "\n",
    "        # print statistics\n",
    "        running_loss += loss.item()\n",
    "        \n",
    "\n",
    "        if i % 2000 == 1999:    # print every 2000 mini-batches\n",
    "            print(f'[{epoch + 1}, {i + 1:5d}] loss: {running_loss / 2000:.3f}')\n",
    "            losslist.append(running_loss / 2000)\n",
    "            running_loss = 0.0\n",
    "\n",
    "print('Finished Training')"
   ]
  },
  {
   "cell_type": "markdown",
   "metadata": {},
   "source": [
    "Save the trained model"
   ]
  },
  {
   "cell_type": "code",
   "execution_count": 55,
   "metadata": {},
   "outputs": [],
   "source": [
    "PATH = './maze_net21x21_even_label.pth'\n",
    "torch.save(net.state_dict(), PATH)"
   ]
  },
  {
   "cell_type": "markdown",
   "metadata": {},
   "source": [
    "### Test the network on the test data"
   ]
  },
  {
   "cell_type": "code",
   "execution_count": 56,
   "metadata": {},
   "outputs": [
    {
     "data": {
      "text/plain": [
       "(tensor(3), tensor(4), tensor(4), tensor(4))"
      ]
     },
     "execution_count": 56,
     "metadata": {},
     "output_type": "execute_result"
    },
    {
     "data": {
      "image/png": "[encoded data removed]",
      "text/plain": [
       "<Figure size 640x480 with 4 Axes>"
      ]
     },
     "metadata": {},
     "output_type": "display_data"
    }
   ],
   "source": [
    "dataiter_test = iter(testLoader)\n",
    "this_iter_test = next(dataiter_test)\n",
    "\n",
    "fig, axes = plt.subplots(1,4)\n",
    "axes[0].imshow(this_iter_test['data'][0].numpy(), cmap='binary')\n",
    "axes[1].imshow(this_iter_test['data'][1].numpy(), cmap='binary')\n",
    "axes[2].imshow(this_iter_test['data'][2].numpy(), cmap='binary')\n",
    "axes[3].imshow(this_iter_test['data'][3].numpy(), cmap='binary')\n",
    "\n",
    "this_iter_test['label'][0], this_iter_test['label'][1], this_iter_test['label'][2], this_iter_test['label'][3]"
   ]
  },
  {
   "cell_type": "code",
   "execution_count": 57,
   "metadata": {},
   "outputs": [
    {
     "data": {
      "text/plain": [
       "<All keys matched successfully>"
      ]
     },
     "execution_count": 57,
     "metadata": {},
     "output_type": "execute_result"
    }
   ],
   "source": [
    "net = Net()\n",
    "net.load_state_dict(torch.load(PATH))"
   ]
  },
  {
   "cell_type": "code",
   "execution_count": 58,
   "metadata": {},
   "outputs": [
    {
     "data": {
      "text/plain": [
       "tensor([[-14.3480,   4.2604,   2.5923,   6.2273,   2.6549],\n",
       "        [ -3.4386,  -0.5880,   1.7068,   0.4667,   2.8640],\n",
       "        [-12.6588,  -0.1783,   0.8773,   5.9874,   7.4387],\n",
       "        [ -5.6570,   1.9482,   0.5027,  -0.4329,   5.5558],\n",
       "        [-16.2280,  11.9720,   8.4166,   3.0311,  -3.7781],\n",
       "        [ -4.9351,   2.7849,   4.9084,  -0.5860,  -0.0510],\n",
       "        [ -2.7555,  -0.6749,   1.5204,   0.0550,   2.8433],\n",
       "        [ 11.2700,  -5.7825,   2.3895,  -7.1826,   2.1024],\n",
       "        [-14.5590,   8.6247,   7.0591,   3.5674,  -1.9104],\n",
       "        [ -6.5542,  -4.7268,   8.9011,   5.4468,  -0.8207],\n",
       "        [-10.5179,   1.3684,   0.3887,   5.3889,   4.1844],\n",
       "        [-12.0069,  -0.1801,   1.3285,   6.7687,   5.2233],\n",
       "        [ -9.6028,   4.4515,   3.8209,   2.8351,  -0.1800],\n",
       "        [ -7.2088,   1.8725,   4.3279,   1.5841,   1.1502],\n",
       "        [ 11.9560,  -6.0305,   2.7031,  -7.4643,   1.7584],\n",
       "        [ -6.9812,   3.7639,   4.9783,   1.5338,  -1.7708]],\n",
       "       grad_fn=<AddmmBackward0>)"
      ]
     },
     "execution_count": 58,
     "metadata": {},
     "output_type": "execute_result"
    }
   ],
   "source": [
    "outputs = net(this_iter_test[\"data\"].float().reshape(-1,1,n,n))\n",
    "outputs"
   ]
  },
  {
   "cell_type": "code",
   "execution_count": 59,
   "metadata": {},
   "outputs": [
    {
     "name": "stdout",
     "output_type": "stream",
     "text": [
      "Predicted:  UP    DOWN  DOWN  DOWN \n"
     ]
    }
   ],
   "source": [
    "_, predicted = torch.max(outputs, 1)\n",
    "\n",
    "print('Predicted: ', ' '.join(f'{classes[predicted[j]]:5s}'\n",
    "                              for j in range(4)))"
   ]
  },
  {
   "cell_type": "markdown",
   "metadata": {},
   "source": [
    "Let us look at how the network performs on the whole dataset."
   ]
  },
  {
   "cell_type": "code",
   "execution_count": 60,
   "metadata": {},
   "outputs": [],
   "source": [
    "import numpy as np\n",
    "from sklearn.metrics import f1_score"
   ]
  },
  {
   "cell_type": "code",
   "execution_count": 61,
   "metadata": {},
   "outputs": [
    {
     "name": "stdout",
     "output_type": "stream",
     "text": [
      "Accuracy of the network on the test mazes: 78 %\n",
      "The F1 Score is: 0.7897524803174951\n"
     ]
    }
   ],
   "source": [
    "correct = 0\n",
    "total = 0\n",
    "\n",
    "f1_true = None\n",
    "f1_predicted = None\n",
    "\n",
    "# since we're not training, we don't need to calculate the gradients for our outputs\n",
    "with torch.no_grad():\n",
    "    for current_data in testLoader:\n",
    "        mazes = current_data['data'].float().reshape(-1,1,n,n)\n",
    "        labels = current_data['label']\n",
    "        # calculate outputs by running images through the network\n",
    "        outputs = net(mazes)\n",
    "        # the class with the highest energy is what we choose as prediction\n",
    "        _, predicted = torch.max(outputs.data, 1)\n",
    "        total += labels.size(0)\n",
    "        correct += (predicted == labels).sum().item()\n",
    "\n",
    "        if f1_true is None:\n",
    "            f1_true = labels.detach().numpy()\n",
    "            f1_predicted = predicted.detach().numpy()\n",
    "        else:\n",
    "            f1_true = np.concatenate((f1_true, labels.detach().numpy()))\n",
    "            f1_predicted = np.concatenate((f1_predicted, predicted.detach().numpy()))\n",
    "\n",
    "print(f'Accuracy of the network on the test mazes: {100 * correct // total} %')\n",
    "\n",
    "# F1 score\n",
    "score = f1_score(f1_true, f1_predicted, average=\"macro\")\n",
    "print(f\"The F1 Score is: {score}\")"
   ]
  },
  {
   "cell_type": "markdown",
   "metadata": {},
   "source": [
    "Hmmm, what are the classes that performed well, and the classes that did not perform well:"
   ]
  },
  {
   "cell_type": "code",
   "execution_count": 63,
   "metadata": {},
   "outputs": [
    {
     "name": "stdout",
     "output_type": "stream",
     "text": [
      "Accuracy for class: END   is 100.0 %\n",
      "Accuracy for class: LEFT  is 71.7 %\n",
      "Accuracy for class: RIGHT is 75.3 %\n",
      "Accuracy for class: UP    is 66.7 %\n",
      "Accuracy for class: DOWN  is 81.3 %\n"
     ]
    }
   ],
   "source": [
    "# prepare to count predictions for each class\n",
    "correct_pred = {classname: 0 for classname in classes}\n",
    "total_pred = {classname: 0 for classname in classes}\n",
    "\n",
    "# again no gradients needed\n",
    "with torch.no_grad():\n",
    "    for current_data in testLoader:\n",
    "        mazes = current_data['data'].float().reshape(-1,1,n,n)\n",
    "        labels = current_data['label']\n",
    "        outputs = net(mazes)\n",
    "        _, predictions = torch.max(outputs, 1)\n",
    "        # collect the correct predictions for each class\n",
    "        for label, prediction in zip(labels, predictions):\n",
    "            # print(label, prediction)\n",
    "            if label == prediction:\n",
    "                correct_pred[classes[label]] += 1\n",
    "            total_pred[classes[label]] += 1\n",
    "\n",
    "\n",
    "# print accuracy for each class\n",
    "for classname, correct_count in correct_pred.items():\n",
    "    accuracy = 100 * float(correct_count) / total_pred[classname]\n",
    "    print(f'Accuracy for class: {classname:5s} is {accuracy:.1f} %')\n",
    "\n",
    "# print(total_pred)"
   ]
  },
  {
   "cell_type": "code",
   "execution_count": null,
   "metadata": {},
   "outputs": [],
   "source": []
  }
 ],
 "metadata": {
  "kernelspec": {
   "display_name": "mazerl",
   "language": "python",
   "name": "python3"
  },
  "language_info": {
   "codemirror_mode": {
    "name": "ipython",
    "version": 3
   },
   "file_extension": ".py",
   "mimetype": "text/x-python",
   "name": "python",
   "nbconvert_exporter": "python",
   "pygments_lexer": "ipython3",
   "version": "3.9.7"
  }
 },
 "nbformat": 4,
 "nbformat_minor": 2
}
