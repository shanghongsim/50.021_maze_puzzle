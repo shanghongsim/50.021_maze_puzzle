{
 "cells": [
  {
   "cell_type": "markdown",
   "metadata": {},
   "source": [
    "### 1. Load data"
   ]
  },
  {
   "cell_type": "code",
   "execution_count": 9,
   "metadata": {},
   "outputs": [],
   "source": [
    "import torch\n",
    "import torchvision\n",
    "import torchvision.transforms as transforms\n",
    "import matplotlib.pyplot as plt\n",
    "from torchsummary import summary\n",
    "import math\n",
    "from datasets import Dataset, Features, Array2D, Value, load_dataset, load_from_disk"
   ]
  },
  {
   "cell_type": "code",
   "execution_count": 10,
   "metadata": {},
   "outputs": [
    {
     "name": "stdout",
     "output_type": "stream",
     "text": [
      "(300000, 3)\n",
      "{'data': tensor([[1, 1, 1, 1, 1, 1, 1, 1, 1, 1, 1, 1, 1, 1, 1, 1, 1, 1, 1, 1, 1],\n",
      "        [1, 2, 0, 0, 1, 0, 0, 0, 1, 0, 0, 0, 0, 0, 1, 0, 0, 0, 1, 0, 1],\n",
      "        [1, 0, 1, 0, 1, 1, 1, 0, 1, 0, 1, 1, 1, 1, 1, 0, 1, 0, 1, 0, 1],\n",
      "        [1, 0, 1, 0, 0, 0, 0, 0, 1, 0, 1, 0, 1, 0, 0, 0, 1, 0, 0, 0, 1],\n",
      "        [1, 0, 1, 0, 1, 1, 1, 1, 1, 0, 1, 0, 1, 0, 1, 1, 1, 1, 1, 1, 1],\n",
      "        [1, 0, 1, 0, 0, 0, 1, 0, 0, 0, 0, 0, 0, 0, 1, 0, 0, 0, 0, 0, 1],\n",
      "        [1, 0, 1, 1, 1, 0, 1, 0, 1, 1, 1, 1, 1, 1, 1, 0, 1, 1, 1, 0, 1],\n",
      "        [1, 0, 1, 0, 0, 0, 1, 0, 1, 0, 0, 0, 0, 0, 0, 0, 1, 0, 0, 0, 1],\n",
      "        [1, 0, 1, 1, 1, 1, 1, 0, 1, 1, 1, 0, 1, 1, 1, 1, 1, 0, 1, 1, 1],\n",
      "        [1, 0, 0, 0, 0, 0, 1, 0, 0, 0, 1, 0, 1, 0, 0, 0, 0, 0, 1, 0, 1],\n",
      "        [1, 1, 1, 1, 1, 0, 1, 1, 1, 0, 1, 1, 1, 0, 1, 0, 1, 1, 1, 0, 1],\n",
      "        [1, 0, 0, 0, 1, 0, 0, 0, 0, 0, 1, 0, 0, 0, 1, 0, 0, 0, 1, 0, 1],\n",
      "        [1, 0, 1, 0, 1, 1, 1, 0, 1, 0, 1, 0, 1, 1, 1, 1, 1, 0, 1, 0, 1],\n",
      "        [1, 0, 1, 0, 1, 0, 0, 0, 1, 0, 1, 0, 1, 0, 0, 0, 1, 0, 1, 0, 1],\n",
      "        [1, 0, 1, 0, 1, 0, 1, 1, 1, 0, 1, 0, 1, 1, 1, 0, 1, 0, 1, 0, 1],\n",
      "        [1, 0, 1, 0, 0, 0, 1, 0, 0, 0, 1, 0, 1, 0, 0, 0, 1, 0, 1, 0, 1],\n",
      "        [1, 0, 1, 1, 1, 1, 1, 1, 1, 0, 1, 0, 1, 0, 1, 1, 1, 0, 1, 0, 1],\n",
      "        [1, 0, 0, 0, 1, 0, 0, 0, 1, 0, 1, 0, 1, 0, 0, 0, 0, 0, 1, 0, 1],\n",
      "        [1, 0, 1, 1, 1, 0, 1, 0, 1, 1, 1, 0, 1, 0, 1, 0, 1, 1, 1, 0, 1],\n",
      "        [1, 0, 0, 0, 0, 0, 1, 0, 0, 0, 0, 0, 1, 0, 1, 0, 0, 0, 0, 0, 1],\n",
      "        [1, 1, 1, 1, 1, 1, 1, 1, 1, 1, 1, 1, 1, 1, 1, 1, 1, 1, 1, 1, 1]]), 'filename': '21HnKgridsize_1_step0_DOWN', 'label': tensor(4)}\n"
     ]
    }
   ],
   "source": [
    "loaded_data = load_from_disk(\n",
    "        \"/Users/yijiachen/Desktop/50.021 Artificial Intelligence/Project/code/code-repo/dataset/even_label/21x21_train.hf\"\n",
    "    ).with_format(\"torch\")\n",
    "\n",
    "print(loaded_data.shape)\n",
    "print(loaded_data[0])"
   ]
  },
  {
   "cell_type": "code",
   "execution_count": 11,
   "metadata": {},
   "outputs": [],
   "source": [
    "batch_size = 4\n",
    "train_set_size = math.floor(0.8*loaded_data.shape[0])\n",
    "train_set, val_set = torch.utils.data.random_split(loaded_data, [train_set_size, loaded_data.shape[0] - train_set_size])\n",
    "trainLoader = torch.utils.data.DataLoader(train_set, batch_size=4, shuffle=True)\n",
    "testLoader = torch.utils.data.DataLoader(val_set, batch_size=4, shuffle=False)\n",
    "\n",
    "classes = ('END', 'LEFT', 'RIGHT', 'UP', 'DOWN')"
   ]
  },
  {
   "cell_type": "markdown",
   "metadata": {},
   "source": [
    "test the dataloader"
   ]
  },
  {
   "cell_type": "code",
   "execution_count": 12,
   "metadata": {},
   "outputs": [
    {
     "data": {
      "text/plain": [
       "(tensor(2), tensor(4), tensor(0), tensor(4))"
      ]
     },
     "execution_count": 12,
     "metadata": {},
     "output_type": "execute_result"
    },
    {
     "data": {
      "image/png": "[encoded data removed]",
      "text/plain": [
       "<Figure size 640x480 with 4 Axes>"
      ]
     },
     "metadata": {},
     "output_type": "display_data"
    }
   ],
   "source": [
    "# test the dataloader\n",
    "dataiter = iter(trainLoader)\n",
    "this_iter = next(dataiter)\n",
    "this_iter['data'], this_iter['label']\n",
    "# mazes, filenames, labels = next(dataiter)\n",
    "# mazes\n",
    "# this_iter\n",
    "\n",
    "fig, axes = plt.subplots(1,4)\n",
    "axes[0].imshow(this_iter['data'][0].numpy(), cmap='binary')\n",
    "axes[1].imshow(this_iter['data'][1].numpy(), cmap='binary')\n",
    "axes[2].imshow(this_iter['data'][2].numpy(), cmap='binary')\n",
    "axes[3].imshow(this_iter['data'][3].numpy(), cmap='binary')\n",
    "\n",
    "this_iter['label'][0], this_iter['label'][1], this_iter['label'][2], this_iter['label'][3]"
   ]
  },
  {
   "cell_type": "markdown",
   "metadata": {},
   "source": [
    "### 2. Define a Convolutional Neural Network"
   ]
  },
  {
   "cell_type": "code",
   "execution_count": 17,
   "metadata": {},
   "outputs": [
    {
     "name": "stdout",
     "output_type": "stream",
     "text": [
      "Net(\n",
      "  (pool): MaxPool2d(kernel_size=2, stride=2, padding=0, dilation=1, ceil_mode=False)\n",
      "  (conv1): Conv2d(1, 6, kernel_size=(6, 6), stride=(1, 1))\n",
      "  (conv2): Conv2d(6, 10, kernel_size=(4, 4), stride=(1, 1))\n",
      "  (conv3): Conv2d(10, 16, kernel_size=(4, 4), stride=(1, 1))\n",
      "  (fc1): Linear(in_features=64, out_features=120, bias=True)\n",
      "  (fc2): Linear(in_features=120, out_features=84, bias=True)\n",
      "  (fc3): Linear(in_features=84, out_features=5, bias=True)\n",
      ")\n",
      "----------------------------------------------------------------\n",
      "        Layer (type)               Output Shape         Param #\n",
      "================================================================\n",
      "            Conv2d-1            [-1, 6, 16, 16]             222\n",
      "         MaxPool2d-2              [-1, 6, 8, 8]               0\n",
      "            Conv2d-3             [-1, 10, 5, 5]             970\n",
      "            Conv2d-4             [-1, 16, 2, 2]           2,576\n",
      "            Linear-5                  [-1, 120]           7,800\n",
      "            Linear-6                   [-1, 84]          10,164\n",
      "            Linear-7                    [-1, 5]             425\n",
      "================================================================\n",
      "Total params: 22,157\n",
      "Trainable params: 22,157\n",
      "Non-trainable params: 0\n",
      "----------------------------------------------------------------\n",
      "Input size (MB): 0.00\n",
      "Forward/backward pass size (MB): 0.02\n",
      "Params size (MB): 0.08\n",
      "Estimated Total Size (MB): 0.10\n",
      "----------------------------------------------------------------\n"
     ]
    }
   ],
   "source": [
    "import torch.nn as nn\n",
    "import torch.nn.functional as F\n",
    "\n",
    "\n",
    "class Net(nn.Module):\n",
    "    def __init__(self):\n",
    "        super().__init__()\n",
    "        self.pool = nn.MaxPool2d(2, 2)\n",
    "        self.conv1 = nn.Conv2d(1, 6, 6)\n",
    "        self.conv2 = nn.Conv2d(6, 10, 4)\n",
    "        self.conv3 = nn.Conv2d(10, 16, 4)\n",
    "        self.fc1 = nn.Linear(16 * 2 * 2, 120)\n",
    "        self.fc2 = nn.Linear(120, 84)\n",
    "        self.fc3 = nn.Linear(84, 5)\n",
    "\n",
    "    def forward(self, x):\n",
    "        x = self.pool(F.relu(self.conv1(x)))\n",
    "        x = F.relu(self.conv2(x))\n",
    "        x = F.relu(self.conv3(x))\n",
    "\n",
    "        x = torch.flatten(x, 1)\n",
    "        x = F.relu(self.fc1(x))\n",
    "        x = F.relu(self.fc2(x))\n",
    "        x = self.fc3(x)\n",
    "\n",
    "\n",
    "        # x = self.pool(F.relu(self.conv1(x)))\n",
    "        # x = self.pool(F.relu(self.conv2(x)))\n",
    "        # x = torch.flatten(x, 1) # flatten all dimensions except batch\n",
    "        # x = F.relu(self.fc1(x))\n",
    "        # x = F.relu(self.fc2(x))\n",
    "        # x = self.fc3(x)\n",
    "        return x\n",
    "\n",
    "\n",
    "net = Net()\n",
    "print(net)\n",
    "n = 21\n",
    "summary(net, (1,n,n))"
   ]
  },
  {
   "cell_type": "markdown",
   "metadata": {},
   "source": [
    "### 3. Define a Loss function and optimizer"
   ]
  },
  {
   "cell_type": "code",
   "execution_count": 18,
   "metadata": {},
   "outputs": [],
   "source": [
    "import torch.optim as optim\n",
    "criterion = nn.CrossEntropyLoss()\n",
    "optimizer = optim.SGD(net.parameters(), lr=0.001, momentum=0.9)"
   ]
  },
  {
   "cell_type": "markdown",
   "metadata": {},
   "source": [
    "### 4. Train the network"
   ]
  },
  {
   "cell_type": "code",
   "execution_count": 19,
   "metadata": {},
   "outputs": [
    {
     "name": "stdout",
     "output_type": "stream",
     "text": [
      "[1,  2000] loss: 1.610\n",
      "[1,  4000] loss: 1.610\n",
      "[1,  6000] loss: 1.610\n",
      "[1,  8000] loss: 1.610\n",
      "[1, 10000] loss: 1.610\n",
      "[1, 12000] loss: 1.610\n",
      "[1, 14000] loss: 1.610\n",
      "[1, 16000] loss: 1.609\n",
      "[1, 18000] loss: 1.608\n",
      "[1, 20000] loss: 1.493\n",
      "[1, 22000] loss: 1.124\n",
      "[1, 24000] loss: 1.114\n",
      "[1, 26000] loss: 1.108\n",
      "[1, 28000] loss: 1.108\n",
      "[1, 30000] loss: 1.105\n",
      "[1, 32000] loss: 1.090\n",
      "[1, 34000] loss: 1.082\n",
      "[1, 36000] loss: 1.066\n",
      "[1, 38000] loss: 1.067\n",
      "[1, 40000] loss: 1.046\n",
      "[1, 42000] loss: 1.049\n",
      "[1, 44000] loss: 1.045\n",
      "[1, 46000] loss: 1.043\n",
      "[1, 48000] loss: 1.033\n",
      "[1, 50000] loss: 1.021\n",
      "[1, 52000] loss: 1.036\n",
      "[1, 54000] loss: 1.031\n",
      "[1, 56000] loss: 1.023\n",
      "[1, 58000] loss: 1.013\n",
      "[1, 60000] loss: 1.018\n",
      "[2,  2000] loss: 0.991\n",
      "[2,  4000] loss: 1.002\n",
      "[2,  6000] loss: 0.978\n",
      "[2,  8000] loss: 0.983\n",
      "[2, 10000] loss: 0.981\n",
      "[2, 12000] loss: 0.978\n",
      "[2, 14000] loss: 0.979\n",
      "[2, 16000] loss: 0.973\n",
      "[2, 18000] loss: 0.948\n",
      "[2, 20000] loss: 0.962\n",
      "[2, 22000] loss: 0.944\n",
      "[2, 24000] loss: 0.937\n",
      "[2, 26000] loss: 0.946\n",
      "[2, 28000] loss: 0.933\n",
      "[2, 30000] loss: 0.933\n",
      "[2, 32000] loss: 0.919\n",
      "[2, 34000] loss: 0.932\n",
      "[2, 36000] loss: 0.909\n",
      "[2, 38000] loss: 0.888\n",
      "[2, 40000] loss: 0.878\n",
      "[2, 42000] loss: 0.869\n",
      "[2, 44000] loss: 0.850\n",
      "[2, 46000] loss: 0.837\n",
      "[2, 48000] loss: 0.789\n",
      "[2, 50000] loss: 0.793\n",
      "[2, 52000] loss: 0.787\n",
      "[2, 54000] loss: 0.754\n",
      "[2, 56000] loss: 0.748\n",
      "[2, 58000] loss: 0.736\n",
      "[2, 60000] loss: 0.734\n",
      "[3,  2000] loss: 0.718\n",
      "[3,  4000] loss: 0.711\n",
      "[3,  6000] loss: 0.705\n",
      "[3,  8000] loss: 0.712\n",
      "[3, 10000] loss: 0.688\n",
      "[3, 12000] loss: 0.669\n",
      "[3, 14000] loss: 0.687\n",
      "[3, 16000] loss: 0.674\n",
      "[3, 18000] loss: 0.670\n",
      "[3, 20000] loss: 0.665\n",
      "[3, 22000] loss: 0.646\n",
      "[3, 24000] loss: 0.630\n",
      "[3, 26000] loss: 0.636\n",
      "[3, 28000] loss: 0.626\n",
      "[3, 30000] loss: 0.632\n",
      "[3, 32000] loss: 0.624\n",
      "[3, 34000] loss: 0.616\n",
      "[3, 36000] loss: 0.623\n",
      "[3, 38000] loss: 0.606\n",
      "[3, 40000] loss: 0.611\n",
      "[3, 42000] loss: 0.602\n",
      "[3, 44000] loss: 0.600\n",
      "[3, 46000] loss: 0.613\n",
      "[3, 48000] loss: 0.609\n",
      "[3, 50000] loss: 0.581\n",
      "[3, 52000] loss: 0.596\n",
      "[3, 54000] loss: 0.582\n",
      "[3, 56000] loss: 0.567\n",
      "[3, 58000] loss: 0.572\n",
      "[3, 60000] loss: 0.574\n",
      "[4,  2000] loss: 0.555\n",
      "[4,  4000] loss: 0.552\n",
      "[4,  6000] loss: 0.564\n",
      "[4,  8000] loss: 0.569\n",
      "[4, 10000] loss: 0.556\n",
      "[4, 12000] loss: 0.545\n",
      "[4, 14000] loss: 0.553\n",
      "[4, 16000] loss: 0.551\n",
      "[4, 18000] loss: 0.531\n",
      "[4, 20000] loss: 0.522\n",
      "[4, 22000] loss: 0.546\n",
      "[4, 24000] loss: 0.528\n",
      "[4, 26000] loss: 0.528\n",
      "[4, 28000] loss: 0.527\n",
      "[4, 30000] loss: 0.519\n",
      "[4, 32000] loss: 0.519\n",
      "[4, 34000] loss: 0.520\n",
      "[4, 36000] loss: 0.520\n",
      "[4, 38000] loss: 0.503\n",
      "[4, 40000] loss: 0.517\n",
      "[4, 42000] loss: 0.514\n",
      "[4, 44000] loss: 0.498\n",
      "[4, 46000] loss: 0.506\n",
      "[4, 48000] loss: 0.488\n",
      "[4, 50000] loss: 0.500\n",
      "[4, 52000] loss: 0.498\n",
      "[4, 54000] loss: 0.508\n",
      "[4, 56000] loss: 0.494\n",
      "[4, 58000] loss: 0.502\n",
      "[4, 60000] loss: 0.488\n",
      "[5,  2000] loss: 0.482\n",
      "[5,  4000] loss: 0.489\n",
      "[5,  6000] loss: 0.477\n",
      "[5,  8000] loss: 0.491\n",
      "[5, 10000] loss: 0.489\n",
      "[5, 12000] loss: 0.461\n",
      "[5, 14000] loss: 0.475\n",
      "[5, 16000] loss: 0.486\n",
      "[5, 18000] loss: 0.481\n",
      "[5, 20000] loss: 0.470\n",
      "[5, 22000] loss: 0.468\n",
      "[5, 24000] loss: 0.485\n",
      "[5, 26000] loss: 0.478\n",
      "[5, 28000] loss: 0.477\n",
      "[5, 30000] loss: 0.466\n",
      "[5, 32000] loss: 0.470\n",
      "[5, 34000] loss: 0.451\n",
      "[5, 36000] loss: 0.459\n",
      "[5, 38000] loss: 0.468\n",
      "[5, 40000] loss: 0.468\n",
      "[5, 42000] loss: 0.478\n",
      "[5, 44000] loss: 0.467\n",
      "[5, 46000] loss: 0.466\n",
      "[5, 48000] loss: 0.463\n",
      "[5, 50000] loss: 0.447\n",
      "[5, 52000] loss: 0.462\n",
      "[5, 54000] loss: 0.454\n",
      "[5, 56000] loss: 0.448\n",
      "[5, 58000] loss: 0.461\n",
      "[5, 60000] loss: 0.440\n",
      "Finished Training\n"
     ]
    }
   ],
   "source": [
    "\n",
    "losslist = []\n",
    "for epoch in range(5):  # loop over the dataset multiple times\n",
    "\n",
    "    running_loss = 0.0\n",
    "    for i, current_data in enumerate(trainLoader, 0):\n",
    "    # for i, data in enumerate(trainLoader, 0):\n",
    "        # get the inputs; data is a list of [inputs, labels]\n",
    "        # inputs, labels = data\n",
    "        # print(current_data)\n",
    "        inputs = current_data[\"data\"].float().reshape(-1, 1, n, n)\n",
    "        # print(inputs.shape)\n",
    "        labels = current_data[\"label\"]\n",
    "\n",
    "        # zero the parameter gradients\n",
    "        optimizer.zero_grad()\n",
    "\n",
    "        # forward + backward + optimize\n",
    "        outputs = net(inputs)\n",
    "        loss = criterion(outputs, labels)\n",
    "        loss.backward()\n",
    "        optimizer.step()\n",
    "\n",
    "        # print statistics\n",
    "        running_loss += loss.item()\n",
    "        \n",
    "\n",
    "        if i % 2000 == 1999:    # print every 2000 mini-batches\n",
    "            print(f'[{epoch + 1}, {i + 1:5d}] loss: {running_loss / 2000:.3f}')\n",
    "            losslist.append(running_loss / 2000)\n",
    "            running_loss = 0.0\n",
    "\n",
    "print('Finished Training')"
   ]
  },
  {
   "cell_type": "markdown",
   "metadata": {},
   "source": [
    "Another 2 epochs"
   ]
  },
  {
   "cell_type": "code",
   "execution_count": 21,
   "metadata": {},
   "outputs": [
    {
     "name": "stdout",
     "output_type": "stream",
     "text": [
      "[1,  2000] loss: 0.446\n",
      "[1,  4000] loss: 0.457\n",
      "[1,  6000] loss: 0.449\n",
      "[1,  8000] loss: 0.436\n",
      "[1, 10000] loss: 0.453\n",
      "[1, 12000] loss: 0.450\n",
      "[1, 14000] loss: 0.440\n",
      "[1, 16000] loss: 0.449\n",
      "[1, 18000] loss: 0.437\n",
      "[1, 20000] loss: 0.443\n",
      "[1, 22000] loss: 0.454\n",
      "[1, 24000] loss: 0.455\n",
      "[1, 26000] loss: 0.450\n",
      "[1, 28000] loss: 0.437\n",
      "[1, 30000] loss: 0.451\n",
      "[1, 32000] loss: 0.452\n",
      "[1, 34000] loss: 0.452\n",
      "[1, 36000] loss: 0.442\n",
      "[1, 38000] loss: 0.434\n",
      "[1, 40000] loss: 0.435\n",
      "[1, 42000] loss: 0.443\n",
      "[1, 44000] loss: 0.440\n",
      "[1, 46000] loss: 0.446\n",
      "[1, 48000] loss: 0.430\n",
      "[1, 50000] loss: 0.444\n",
      "[1, 52000] loss: 0.445\n",
      "[1, 54000] loss: 0.439\n",
      "[1, 56000] loss: 0.426\n",
      "[1, 58000] loss: 0.442\n",
      "[1, 60000] loss: 0.438\n",
      "[2,  2000] loss: 0.432\n",
      "[2,  4000] loss: 0.451\n",
      "[2,  6000] loss: 0.433\n",
      "[2,  8000] loss: 0.430\n",
      "[2, 10000] loss: 0.434\n",
      "[2, 12000] loss: 0.422\n",
      "[2, 14000] loss: 0.430\n",
      "[2, 16000] loss: 0.444\n",
      "[2, 18000] loss: 0.442\n",
      "[2, 20000] loss: 0.412\n",
      "[2, 22000] loss: 0.422\n",
      "[2, 24000] loss: 0.419\n",
      "[2, 26000] loss: 0.426\n",
      "[2, 28000] loss: 0.437\n",
      "[2, 30000] loss: 0.425\n",
      "[2, 32000] loss: 0.409\n",
      "[2, 34000] loss: 0.422\n",
      "[2, 36000] loss: 0.424\n",
      "[2, 38000] loss: 0.431\n",
      "[2, 40000] loss: 0.430\n",
      "[2, 42000] loss: 0.437\n",
      "[2, 44000] loss: 0.422\n",
      "[2, 46000] loss: 0.426\n",
      "[2, 48000] loss: 0.413\n",
      "[2, 50000] loss: 0.425\n",
      "[2, 52000] loss: 0.430\n",
      "[2, 54000] loss: 0.420\n",
      "[2, 56000] loss: 0.427\n",
      "[2, 58000] loss: 0.415\n",
      "[2, 60000] loss: 0.420\n",
      "Finished Training\n"
     ]
    }
   ],
   "source": [
    "for epoch in range(2):  # loop over the dataset multiple times\n",
    "\n",
    "    running_loss = 0.0\n",
    "    for i, current_data in enumerate(trainLoader, 0):\n",
    "    # for i, data in enumerate(trainLoader, 0):\n",
    "        # get the inputs; data is a list of [inputs, labels]\n",
    "        # inputs, labels = data\n",
    "        # print(current_data)\n",
    "        inputs = current_data[\"data\"].float().reshape(-1, 1, n, n)\n",
    "        # print(inputs.shape)\n",
    "        labels = current_data[\"label\"]\n",
    "\n",
    "        # zero the parameter gradients\n",
    "        optimizer.zero_grad()\n",
    "\n",
    "        # forward + backward + optimize\n",
    "        outputs = net(inputs)\n",
    "        loss = criterion(outputs, labels)\n",
    "        loss.backward()\n",
    "        optimizer.step()\n",
    "\n",
    "        # print statistics\n",
    "        running_loss += loss.item()\n",
    "        \n",
    "\n",
    "        if i % 2000 == 1999:    # print every 2000 mini-batches\n",
    "            print(f'[{epoch + 1}, {i + 1:5d}] loss: {running_loss / 2000:.3f}')\n",
    "            losslist.append(running_loss / 2000)\n",
    "            running_loss = 0.0\n",
    "\n",
    "print('Finished Training')"
   ]
  },
  {
   "cell_type": "markdown",
   "metadata": {},
   "source": [
    "Save the trained model"
   ]
  },
  {
   "cell_type": "code",
   "execution_count": 22,
   "metadata": {},
   "outputs": [
    {
     "data": {
      "image/png": "[encoded data removed]",
      "text/plain": [
       "<Figure size 640x480 with 1 Axes>"
      ]
     },
     "metadata": {},
     "output_type": "display_data"
    }
   ],
   "source": [
    "import matplotlib.pyplot as plt\n",
    "\n",
    "plt.xlabel(\"epochs\")\n",
    "plt.ylabel(\"training loss\")\n",
    "plt.plot(losslist,color='red')\n",
    "plt.show()"
   ]
  },
  {
   "cell_type": "code",
   "execution_count": 23,
   "metadata": {},
   "outputs": [],
   "source": [
    "PATH = './maze_net21x21_even_label_ver2.pth'\n",
    "torch.save(net.state_dict(), PATH)"
   ]
  },
  {
   "cell_type": "markdown",
   "metadata": {},
   "source": [
    "### Test the network on the test data"
   ]
  },
  {
   "cell_type": "code",
   "execution_count": 24,
   "metadata": {},
   "outputs": [
    {
     "data": {
      "text/plain": [
       "(tensor(2), tensor(3), tensor(1), tensor(4))"
      ]
     },
     "execution_count": 24,
     "metadata": {},
     "output_type": "execute_result"
    },
    {
     "data": {
      "image/png": "[encoded data removed]",
      "text/plain": [
       "<Figure size 640x480 with 4 Axes>"
      ]
     },
     "metadata": {},
     "output_type": "display_data"
    }
   ],
   "source": [
    "dataiter_test = iter(testLoader)\n",
    "this_iter_test = next(dataiter_test)\n",
    "\n",
    "fig, axes = plt.subplots(1,4)\n",
    "axes[0].imshow(this_iter_test['data'][0].numpy(), cmap='binary')\n",
    "axes[1].imshow(this_iter_test['data'][1].numpy(), cmap='binary')\n",
    "axes[2].imshow(this_iter_test['data'][2].numpy(), cmap='binary')\n",
    "axes[3].imshow(this_iter_test['data'][3].numpy(), cmap='binary')\n",
    "\n",
    "this_iter_test['label'][0], this_iter_test['label'][1], this_iter_test['label'][2], this_iter_test['label'][3]"
   ]
  },
  {
   "cell_type": "code",
   "execution_count": 25,
   "metadata": {},
   "outputs": [
    {
     "data": {
      "text/plain": [
       "<All keys matched successfully>"
      ]
     },
     "execution_count": 25,
     "metadata": {},
     "output_type": "execute_result"
    }
   ],
   "source": [
    "net = Net()\n",
    "net.load_state_dict(torch.load(PATH))"
   ]
  },
  {
   "cell_type": "code",
   "execution_count": 26,
   "metadata": {},
   "outputs": [
    {
     "data": {
      "text/plain": [
       "tensor([[ -8.9053,   7.1912,   8.2629,  -1.4619,  -5.2218],\n",
       "        [ -7.8140,   4.3380,   2.2681,   9.2259,  -8.5839],\n",
       "        [-12.1107,  11.5903,  10.6543,  -0.2586,  -8.8237],\n",
       "        [ -5.8715,   3.5808,   0.5138,  -0.1818,   2.4943]],\n",
       "       grad_fn=<AddmmBackward0>)"
      ]
     },
     "execution_count": 26,
     "metadata": {},
     "output_type": "execute_result"
    }
   ],
   "source": [
    "outputs = net(this_iter_test[\"data\"].float().reshape(-1,1,n,n))\n",
    "outputs"
   ]
  },
  {
   "cell_type": "code",
   "execution_count": 27,
   "metadata": {},
   "outputs": [
    {
     "name": "stdout",
     "output_type": "stream",
     "text": [
      "Predicted:  RIGHT UP    LEFT  LEFT \n"
     ]
    }
   ],
   "source": [
    "_, predicted = torch.max(outputs, 1)\n",
    "\n",
    "print('Predicted: ', ' '.join(f'{classes[predicted[j]]:5s}'\n",
    "                              for j in range(4)))"
   ]
  },
  {
   "cell_type": "markdown",
   "metadata": {},
   "source": [
    "Let us look at how the network performs on the whole dataset."
   ]
  },
  {
   "cell_type": "code",
   "execution_count": 28,
   "metadata": {},
   "outputs": [],
   "source": [
    "import numpy as np\n",
    "from sklearn.metrics import f1_score"
   ]
  },
  {
   "cell_type": "code",
   "execution_count": 29,
   "metadata": {},
   "outputs": [
    {
     "name": "stdout",
     "output_type": "stream",
     "text": [
      "Accuracy of the network on the test mazes: 82 %\n",
      "The F1 Score is: 0.8229527890365962\n"
     ]
    }
   ],
   "source": [
    "correct = 0\n",
    "total = 0\n",
    "\n",
    "f1_true = None\n",
    "f1_predicted = None\n",
    "\n",
    "# since we're not training, we don't need to calculate the gradients for our outputs\n",
    "with torch.no_grad():\n",
    "    for current_data in testLoader:\n",
    "        mazes = current_data['data'].float().reshape(-1,1,n,n)\n",
    "        labels = current_data['label']\n",
    "        # calculate outputs by running images through the network\n",
    "        outputs = net(mazes)\n",
    "        # the class with the highest energy is what we choose as prediction\n",
    "        _, predicted = torch.max(outputs.data, 1)\n",
    "        total += labels.size(0)\n",
    "        correct += (predicted == labels).sum().item()\n",
    "\n",
    "        if f1_true is None:\n",
    "            f1_true = labels.detach().numpy()\n",
    "            f1_predicted = predicted.detach().numpy()\n",
    "        else:\n",
    "            f1_true = np.concatenate((f1_true, labels.detach().numpy()))\n",
    "            f1_predicted = np.concatenate((f1_predicted, predicted.detach().numpy()))\n",
    "\n",
    "print(f'Accuracy of the network on the test mazes: {100 * correct // total} %')\n",
    "\n",
    "# F1 score\n",
    "score = f1_score(f1_true, f1_predicted, average=\"macro\")\n",
    "print(f\"The F1 Score is: {score}\")"
   ]
  },
  {
   "cell_type": "markdown",
   "metadata": {},
   "source": [
    "Hmmm, what are the classes that performed well, and the classes that did not perform well:"
   ]
  },
  {
   "cell_type": "code",
   "execution_count": 30,
   "metadata": {},
   "outputs": [
    {
     "name": "stdout",
     "output_type": "stream",
     "text": [
      "Accuracy for class: END   is 100.0 %\n",
      "Accuracy for class: LEFT  is 79.8 %\n",
      "Accuracy for class: RIGHT is 77.9 %\n",
      "Accuracy for class: UP    is 77.7 %\n",
      "Accuracy for class: DOWN  is 76.0 %\n"
     ]
    }
   ],
   "source": [
    "# prepare to count predictions for each class\n",
    "correct_pred = {classname: 0 for classname in classes}\n",
    "total_pred = {classname: 0 for classname in classes}\n",
    "\n",
    "# again no gradients needed\n",
    "with torch.no_grad():\n",
    "    for current_data in testLoader:\n",
    "        mazes = current_data['data'].float().reshape(-1,1,n,n)\n",
    "        labels = current_data['label']\n",
    "        outputs = net(mazes)\n",
    "        _, predictions = torch.max(outputs, 1)\n",
    "        # collect the correct predictions for each class\n",
    "        for label, prediction in zip(labels, predictions):\n",
    "            # print(label, prediction)\n",
    "            if label == prediction:\n",
    "                correct_pred[classes[label]] += 1\n",
    "            total_pred[classes[label]] += 1\n",
    "\n",
    "\n",
    "# print accuracy for each class\n",
    "for classname, correct_count in correct_pred.items():\n",
    "    accuracy = 100 * float(correct_count) / total_pred[classname]\n",
    "    print(f'Accuracy for class: {classname:5s} is {accuracy:.1f} %')\n",
    "\n",
    "# print(total_pred)"
   ]
  },
  {
   "cell_type": "code",
   "execution_count": null,
   "metadata": {},
   "outputs": [],
   "source": []
  }
 ],
 "metadata": {
  "kernelspec": {
   "display_name": "mazerl",
   "language": "python",
   "name": "python3"
  },
  "language_info": {
   "codemirror_mode": {
    "name": "ipython",
    "version": 3
   },
   "file_extension": ".py",
   "mimetype": "text/x-python",
   "name": "python",
   "nbconvert_exporter": "python",
   "pygments_lexer": "ipython3",
   "version": "3.9.7"
  }
 },
 "nbformat": 4,
 "nbformat_minor": 2
}
