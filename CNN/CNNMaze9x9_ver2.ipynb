{
 "cells": [
  {
   "cell_type": "markdown",
   "metadata": {},
   "source": [
    "### 1. Load data"
   ]
  },
  {
   "cell_type": "code",
   "execution_count": 1,
   "metadata": {},
   "outputs": [
    {
     "name": "stderr",
     "output_type": "stream",
     "text": [
      "/Users/yijiachen/Desktop/50.021 Artificial Intelligence/Project/code/mazerl/lib/python3.9/site-packages/tqdm/auto.py:21: TqdmWarning: IProgress not found. Please update jupyter and ipywidgets. See https://ipywidgets.readthedocs.io/en/stable/user_install.html\n",
      "  from .autonotebook import tqdm as notebook_tqdm\n"
     ]
    }
   ],
   "source": [
    "import torch\n",
    "import torchvision\n",
    "import torchvision.transforms as transforms\n",
    "import matplotlib.pyplot as plt\n",
    "from torchsummary import summary\n",
    "import math\n",
    "from datasets import Dataset, Features, Array2D, Value, load_dataset, load_from_disk"
   ]
  },
  {
   "cell_type": "code",
   "execution_count": 2,
   "metadata": {},
   "outputs": [
    {
     "name": "stdout",
     "output_type": "stream",
     "text": [
      "(250000, 3)\n",
      "{'data': tensor([[1, 1, 1, 1, 1, 1, 1, 1, 1],\n",
      "        [1, 2, 1, 0, 0, 0, 0, 0, 1],\n",
      "        [1, 0, 1, 1, 1, 0, 1, 0, 1],\n",
      "        [1, 0, 0, 0, 0, 0, 1, 0, 1],\n",
      "        [1, 1, 1, 1, 1, 1, 1, 0, 1],\n",
      "        [1, 0, 0, 0, 1, 0, 0, 0, 1],\n",
      "        [1, 0, 1, 1, 1, 0, 1, 0, 1],\n",
      "        [1, 0, 0, 0, 0, 0, 1, 0, 1],\n",
      "        [1, 1, 1, 1, 1, 1, 1, 1, 1]]), 'filename': '/Users/victoriachong/Documents/SUTD/TERM 8/50.021 Artificial Intelligence/maze-puzzle/dataset/2.0/9x9/train_set9HnKgridsize_1_step0_DOWN', 'label': tensor(4)}\n"
     ]
    }
   ],
   "source": [
    "loaded_data = load_from_disk(\n",
    "        \"/Users/yijiachen/Desktop/50.021 Artificial Intelligence/Project/code/code-repo/dataset/even_label/9x9.hf\"\n",
    "    ).with_format(\"torch\")\n",
    "\n",
    "print(loaded_data.shape)\n",
    "print(loaded_data[0])"
   ]
  },
  {
   "cell_type": "code",
   "execution_count": 3,
   "metadata": {},
   "outputs": [],
   "source": [
    "batch_size = 4\n",
    "train_set_size = math.floor(0.8*loaded_data.shape[0])\n",
    "train_set, val_set = torch.utils.data.random_split(loaded_data, [train_set_size, loaded_data.shape[0] - train_set_size])\n",
    "trainLoader = torch.utils.data.DataLoader(train_set, batch_size=4, shuffle=True)\n",
    "testLoader = torch.utils.data.DataLoader(val_set, batch_size=4, shuffle=False)\n",
    "\n",
    "classes = ('END', 'LEFT', 'RIGHT', 'UP', 'DOWN')"
   ]
  },
  {
   "cell_type": "markdown",
   "metadata": {},
   "source": [
    "test the dataloader"
   ]
  },
  {
   "cell_type": "code",
   "execution_count": 24,
   "metadata": {},
   "outputs": [
    {
     "data": {
      "text/plain": [
       "(tensor(2), tensor(4), tensor(4), tensor(3))"
      ]
     },
     "execution_count": 24,
     "metadata": {},
     "output_type": "execute_result"
    },
    {
     "data": {
      "image/png": "[encoded data removed]",
      "text/plain": [
       "<Figure size 640x480 with 4 Axes>"
      ]
     },
     "metadata": {},
     "output_type": "display_data"
    }
   ],
   "source": [
    "# test the dataloader\n",
    "dataiter = iter(trainLoader)\n",
    "this_iter = next(dataiter)\n",
    "this_iter['data'], this_iter['label']\n",
    "# mazes, filenames, labels = next(dataiter)\n",
    "# mazes\n",
    "# this_iter\n",
    "\n",
    "fig, axes = plt.subplots(1,4)\n",
    "axes[0].imshow(this_iter['data'][0].numpy(), cmap='binary')\n",
    "axes[1].imshow(this_iter['data'][1].numpy(), cmap='binary')\n",
    "axes[2].imshow(this_iter['data'][2].numpy(), cmap='binary')\n",
    "axes[3].imshow(this_iter['data'][3].numpy(), cmap='binary')\n",
    "\n",
    "this_iter['label'][0], this_iter['label'][1], this_iter['label'][2], this_iter['label'][3]"
   ]
  },
  {
   "cell_type": "markdown",
   "metadata": {},
   "source": [
    "### 2. Define a Convolutional Neural Network"
   ]
  },
  {
   "cell_type": "code",
   "execution_count": 4,
   "metadata": {},
   "outputs": [
    {
     "name": "stdout",
     "output_type": "stream",
     "text": [
      "Net(\n",
      "  (conv1): Conv2d(1, 4, kernel_size=(3, 3), stride=(1, 1))\n",
      "  (conv2): Conv2d(4, 8, kernel_size=(3, 3), stride=(1, 1))\n",
      "  (conv3): Conv2d(8, 16, kernel_size=(3, 3), stride=(1, 1))\n",
      "  (fc1): Linear(in_features=144, out_features=120, bias=True)\n",
      "  (fc2): Linear(in_features=120, out_features=84, bias=True)\n",
      "  (fc3): Linear(in_features=84, out_features=5, bias=True)\n",
      ")\n",
      "----------------------------------------------------------------\n",
      "        Layer (type)               Output Shape         Param #\n",
      "================================================================\n",
      "            Conv2d-1              [-1, 4, 7, 7]              40\n",
      "            Conv2d-2              [-1, 8, 5, 5]             296\n",
      "            Conv2d-3             [-1, 16, 3, 3]           1,168\n",
      "            Linear-4                  [-1, 120]          17,400\n",
      "            Linear-5                   [-1, 84]          10,164\n",
      "            Linear-6                    [-1, 5]             425\n",
      "================================================================\n",
      "Total params: 29,493\n",
      "Trainable params: 29,493\n",
      "Non-trainable params: 0\n",
      "----------------------------------------------------------------\n",
      "Input size (MB): 0.00\n",
      "Forward/backward pass size (MB): 0.01\n",
      "Params size (MB): 0.11\n",
      "Estimated Total Size (MB): 0.12\n",
      "----------------------------------------------------------------\n"
     ]
    }
   ],
   "source": [
    "import torch.nn as nn\n",
    "import torch.nn.functional as F\n",
    "\n",
    "\n",
    "class Net(nn.Module):\n",
    "    def __init__(self):\n",
    "        super().__init__()\n",
    "        self.conv1 = nn.Conv2d(1, 4, 3)\n",
    "        # self.pool = nn.MaxPool2d(2, 2)\n",
    "        self.conv2 = nn.Conv2d(4, 8, 3)\n",
    "        self.conv3 = nn.Conv2d(8, 16, 3)\n",
    "        self.fc1 = nn.Linear(16 * 3 * 3, 120)\n",
    "        self.fc2 = nn.Linear(120, 84)\n",
    "        self.fc3 = nn.Linear(84, 5)\n",
    "\n",
    "    def forward(self, x):\n",
    "        x = F.relu(self.conv1(x))\n",
    "        x = F.relu(self.conv2(x))\n",
    "        x = F.relu(self.conv3(x))\n",
    "\n",
    "        x = torch.flatten(x, 1)\n",
    "        x = F.relu(self.fc1(x))\n",
    "        x = F.relu(self.fc2(x))\n",
    "        x = self.fc3(x)\n",
    "\n",
    "\n",
    "        # x = self.pool(F.relu(self.conv1(x)))\n",
    "        # x = self.pool(F.relu(self.conv2(x)))\n",
    "        # x = torch.flatten(x, 1) # flatten all dimensions except batch\n",
    "        # x = F.relu(self.fc1(x))\n",
    "        # x = F.relu(self.fc2(x))\n",
    "        # x = self.fc3(x)\n",
    "        return x\n",
    "\n",
    "\n",
    "net = Net()\n",
    "print(net)\n",
    "n = 9\n",
    "summary(net, (1,n,n))"
   ]
  },
  {
   "cell_type": "markdown",
   "metadata": {},
   "source": [
    "### 3. Define a Loss function and optimizer"
   ]
  },
  {
   "cell_type": "code",
   "execution_count": 5,
   "metadata": {},
   "outputs": [],
   "source": [
    "import torch.optim as optim\n",
    "\n",
    "criterion = nn.CrossEntropyLoss()\n",
    "optimizer = optim.SGD(net.parameters(), lr=0.001, momentum=0.9)"
   ]
  },
  {
   "cell_type": "markdown",
   "metadata": {},
   "source": [
    "### 4. Train the network"
   ]
  },
  {
   "cell_type": "code",
   "execution_count": 6,
   "metadata": {},
   "outputs": [
    {
     "name": "stdout",
     "output_type": "stream",
     "text": [
      "[1,  2000] loss: 1.609\n",
      "[1,  4000] loss: 1.607\n",
      "[1,  6000] loss: 1.345\n",
      "[1,  8000] loss: 0.936\n",
      "[1, 10000] loss: 0.757\n",
      "[1, 12000] loss: 0.587\n",
      "[1, 14000] loss: 0.457\n",
      "[1, 16000] loss: 0.341\n",
      "[1, 18000] loss: 0.258\n",
      "[1, 20000] loss: 0.200\n",
      "[1, 22000] loss: 0.160\n",
      "[1, 24000] loss: 0.141\n",
      "[1, 26000] loss: 0.113\n",
      "[1, 28000] loss: 0.096\n",
      "[1, 30000] loss: 0.082\n",
      "[1, 32000] loss: 0.078\n",
      "[1, 34000] loss: 0.064\n",
      "[1, 36000] loss: 0.066\n",
      "[1, 38000] loss: 0.052\n",
      "[1, 40000] loss: 0.057\n",
      "[1, 42000] loss: 0.054\n",
      "[1, 44000] loss: 0.042\n",
      "[1, 46000] loss: 0.042\n",
      "[1, 48000] loss: 0.050\n",
      "[1, 50000] loss: 0.038\n",
      "[2,  2000] loss: 0.031\n",
      "[2,  4000] loss: 0.030\n",
      "[2,  6000] loss: 0.039\n",
      "[2,  8000] loss: 0.031\n",
      "[2, 10000] loss: 0.027\n",
      "[2, 12000] loss: 0.031\n",
      "[2, 14000] loss: 0.024\n",
      "[2, 16000] loss: 0.026\n",
      "[2, 18000] loss: 0.031\n",
      "[2, 20000] loss: 0.025\n",
      "[2, 22000] loss: 0.024\n",
      "[2, 24000] loss: 0.024\n",
      "[2, 26000] loss: 0.026\n",
      "[2, 28000] loss: 0.024\n",
      "[2, 30000] loss: 0.018\n",
      "[2, 32000] loss: 0.022\n",
      "[2, 34000] loss: 0.016\n",
      "[2, 36000] loss: 0.015\n",
      "[2, 38000] loss: 0.019\n",
      "[2, 40000] loss: 0.020\n",
      "[2, 42000] loss: 0.027\n",
      "[2, 44000] loss: 0.012\n",
      "[2, 46000] loss: 0.011\n",
      "[2, 48000] loss: 0.017\n",
      "[2, 50000] loss: 0.013\n",
      "[3,  2000] loss: 0.013\n",
      "[3,  4000] loss: 0.015\n",
      "[3,  6000] loss: 0.010\n",
      "[3,  8000] loss: 0.015\n",
      "[3, 10000] loss: 0.018\n",
      "[3, 12000] loss: 0.018\n",
      "[3, 14000] loss: 0.012\n",
      "[3, 16000] loss: 0.016\n",
      "[3, 18000] loss: 0.014\n",
      "[3, 20000] loss: 0.019\n",
      "[3, 22000] loss: 0.012\n",
      "[3, 24000] loss: 0.015\n",
      "[3, 26000] loss: 0.016\n",
      "[3, 28000] loss: 0.014\n",
      "[3, 30000] loss: 0.013\n",
      "[3, 32000] loss: 0.011\n",
      "[3, 34000] loss: 0.007\n",
      "[3, 36000] loss: 0.014\n",
      "[3, 38000] loss: 0.012\n",
      "[3, 40000] loss: 0.012\n",
      "[3, 42000] loss: 0.008\n",
      "[3, 44000] loss: 0.014\n",
      "[3, 46000] loss: 0.009\n",
      "[3, 48000] loss: 0.008\n",
      "[3, 50000] loss: 0.014\n",
      "Finished Training\n"
     ]
    }
   ],
   "source": [
    "\n",
    "losslist = []\n",
    "for epoch in range(3):  # loop over the dataset multiple times\n",
    "\n",
    "    running_loss = 0.0\n",
    "    for i, current_data in enumerate(trainLoader, 0):\n",
    "    # for i, data in enumerate(trainLoader, 0):\n",
    "        # get the inputs; data is a list of [inputs, labels]\n",
    "        # inputs, labels = data\n",
    "        # print(current_data)\n",
    "        inputs = current_data[\"data\"].float().reshape(-1, 1, n, n)\n",
    "        # print(inputs.shape)\n",
    "        labels = current_data[\"label\"]\n",
    "\n",
    "        # zero the parameter gradients\n",
    "        optimizer.zero_grad()\n",
    "\n",
    "        # forward + backward + optimize\n",
    "        outputs = net(inputs)\n",
    "        loss = criterion(outputs, labels)\n",
    "        loss.backward()\n",
    "        optimizer.step()\n",
    "\n",
    "        # print statistics\n",
    "        running_loss += loss.item()\n",
    "        \n",
    "\n",
    "        if i % 2000 == 1999:    # print every 2000 mini-batches\n",
    "            print(f'[{epoch + 1}, {i + 1:5d}] loss: {running_loss / 2000:.3f}')\n",
    "            losslist.append(running_loss / 2000)\n",
    "            running_loss = 0.0\n",
    "\n",
    "print('Finished Training')"
   ]
  },
  {
   "cell_type": "markdown",
   "metadata": {},
   "source": [
    "Save the trained model"
   ]
  },
  {
   "cell_type": "code",
   "execution_count": 11,
   "metadata": {},
   "outputs": [
    {
     "data": {
      "image/png": "[encoded data removed]",
      "text/plain": [
       "<Figure size 640x480 with 1 Axes>"
      ]
     },
     "metadata": {},
     "output_type": "display_data"
    }
   ],
   "source": [
    "import matplotlib.pyplot as plt\n",
    "\n",
    "plt.xlabel(\"epochs\")\n",
    "plt.ylabel(\"training loss\")\n",
    "plt.plot(losslist,color='red')\n",
    "plt.show()"
   ]
  },
  {
   "cell_type": "code",
   "execution_count": 7,
   "metadata": {},
   "outputs": [],
   "source": [
    "PATH = './maze_net9x9_even_label_ver2.pth'\n",
    "torch.save(net.state_dict(), PATH)"
   ]
  },
  {
   "cell_type": "markdown",
   "metadata": {},
   "source": [
    "### 5. Test the network on the test data"
   ]
  },
  {
   "cell_type": "markdown",
   "metadata": {},
   "source": [
    "display an image from the test set to get familiar"
   ]
  },
  {
   "cell_type": "markdown",
   "metadata": {},
   "source": [
    "load back in our saved model (note: saving and re-loading the model wasn’t necessary here, we only did it to illustrate how to do so)"
   ]
  },
  {
   "cell_type": "code",
   "execution_count": 20,
   "metadata": {},
   "outputs": [
    {
     "data": {
      "text/plain": [
       "(tensor(4), tensor(0), tensor(4), tensor(4))"
      ]
     },
     "execution_count": 20,
     "metadata": {},
     "output_type": "execute_result"
    },
    {
     "data": {
      "image/png": "[encoded data removed]",
      "text/plain": [
       "<Figure size 640x480 with 4 Axes>"
      ]
     },
     "metadata": {},
     "output_type": "display_data"
    }
   ],
   "source": [
    "dataiter_test = iter(testLoader)\n",
    "this_iter_test = next(dataiter_test)\n",
    "\n",
    "fig, axes = plt.subplots(1,4)\n",
    "axes[0].imshow(this_iter_test['data'][0].numpy(), cmap='binary')\n",
    "axes[1].imshow(this_iter_test['data'][1].numpy(), cmap='binary')\n",
    "axes[2].imshow(this_iter_test['data'][2].numpy(), cmap='binary')\n",
    "axes[3].imshow(this_iter_test['data'][3].numpy(), cmap='binary')\n",
    "\n",
    "this_iter_test['label'][0], this_iter_test['label'][1], this_iter_test['label'][2], this_iter_test['label'][3]"
   ]
  },
  {
   "cell_type": "code",
   "execution_count": 9,
   "metadata": {},
   "outputs": [
    {
     "data": {
      "text/plain": [
       "<All keys matched successfully>"
      ]
     },
     "execution_count": 9,
     "metadata": {},
     "output_type": "execute_result"
    }
   ],
   "source": [
    "net = Net()\n",
    "net.load_state_dict(torch.load(PATH))"
   ]
  },
  {
   "cell_type": "code",
   "execution_count": 21,
   "metadata": {},
   "outputs": [
    {
     "data": {
      "text/plain": [
       "tensor([[ -5.1095,  -5.5984,  -4.9001,   2.0572,  12.0331],\n",
       "        [ 24.9765, -21.6040,   6.1800,  -8.9565,  -2.7122],\n",
       "        [ -4.0798,   0.3515,   0.0543,  -6.0452,  10.6690],\n",
       "        [ -4.8071,  -0.7241,  -8.0257,  -5.0405,  20.1146]],\n",
       "       grad_fn=<AddmmBackward0>)"
      ]
     },
     "execution_count": 21,
     "metadata": {},
     "output_type": "execute_result"
    }
   ],
   "source": [
    "outputs = net(this_iter_test[\"data\"].float().reshape(-1,1,n,n))\n",
    "outputs"
   ]
  },
  {
   "cell_type": "code",
   "execution_count": 22,
   "metadata": {},
   "outputs": [
    {
     "name": "stdout",
     "output_type": "stream",
     "text": [
      "Predicted:  DOWN  END   DOWN  DOWN \n"
     ]
    }
   ],
   "source": [
    "_, predicted = torch.max(outputs, 1)\n",
    "\n",
    "print('Predicted: ', ' '.join(f'{classes[predicted[j]]:5s}'\n",
    "                              for j in range(4)))"
   ]
  },
  {
   "cell_type": "markdown",
   "metadata": {},
   "source": [
    "Let us look at how the network performs on the whole dataset."
   ]
  },
  {
   "cell_type": "code",
   "execution_count": 13,
   "metadata": {},
   "outputs": [],
   "source": [
    "import numpy as np\n",
    "from sklearn.metrics import f1_score"
   ]
  },
  {
   "cell_type": "code",
   "execution_count": 14,
   "metadata": {},
   "outputs": [
    {
     "name": "stdout",
     "output_type": "stream",
     "text": [
      "Accuracy of the network on the test mazes: 99 %\n",
      "The F1 Score is: 0.9970950469768122\n"
     ]
    }
   ],
   "source": [
    "correct = 0\n",
    "total = 0\n",
    "\n",
    "f1_true = None\n",
    "f1_predicted = None\n",
    "\n",
    "# since we're not training, we don't need to calculate the gradients for our outputs\n",
    "with torch.no_grad():\n",
    "    for current_data in testLoader:\n",
    "        mazes = current_data['data'].float().reshape(-1,1,n,n)\n",
    "        labels = current_data['label']\n",
    "        # calculate outputs by running images through the network\n",
    "        outputs = net(mazes)\n",
    "        # the class with the highest energy is what we choose as prediction\n",
    "        _, predicted = torch.max(outputs.data, 1)\n",
    "        total += labels.size(0)\n",
    "        correct += (predicted == labels).sum().item()\n",
    "\n",
    "        if f1_true is None:\n",
    "            f1_true = labels.detach().numpy()\n",
    "            f1_predicted = predicted.detach().numpy()\n",
    "        else:\n",
    "            f1_true = np.concatenate((f1_true, labels.detach().numpy()))\n",
    "            f1_predicted = np.concatenate((f1_predicted, predicted.detach().numpy()))\n",
    "\n",
    "print(f'Accuracy of the network on the test mazes: {100 * correct // total} %')\n",
    "\n",
    "# F1 score\n",
    "score = f1_score(f1_true, f1_predicted, average=\"macro\")\n",
    "print(f\"The F1 Score is: {score}\")"
   ]
  },
  {
   "cell_type": "markdown",
   "metadata": {},
   "source": [
    "Hmmm, what are the classes that performed well, and the classes that did not perform well:"
   ]
  },
  {
   "cell_type": "code",
   "execution_count": 15,
   "metadata": {},
   "outputs": [
    {
     "name": "stdout",
     "output_type": "stream",
     "text": [
      "Accuracy for class: END   is 100.0 %\n",
      "Accuracy for class: LEFT  is 99.8 %\n",
      "Accuracy for class: RIGHT is 99.4 %\n",
      "Accuracy for class: UP    is 99.9 %\n",
      "Accuracy for class: DOWN  is 99.4 %\n"
     ]
    }
   ],
   "source": [
    "# prepare to count predictions for each class\n",
    "correct_pred = {classname: 0 for classname in classes}\n",
    "total_pred = {classname: 0 for classname in classes}\n",
    "\n",
    "\n",
    "\n",
    "# again no gradients needed\n",
    "with torch.no_grad():\n",
    "    for current_data in testLoader:\n",
    "        mazes = current_data['data'].float().reshape(-1,1,n,n)\n",
    "        labels = current_data['label']\n",
    "        outputs = net(mazes)\n",
    "        _, predictions = torch.max(outputs, 1)\n",
    "        # collect the correct predictions for each class\n",
    "        for label, prediction in zip(labels, predictions):\n",
    "            # print(label, prediction)\n",
    "            if label == prediction:\n",
    "                correct_pred[classes[label]] += 1\n",
    "            total_pred[classes[label]] += 1\n",
    "\n",
    "\n",
    "# print accuracy for each class\n",
    "for classname, correct_count in correct_pred.items():\n",
    "    accuracy = 100 * float(correct_count) / total_pred[classname]\n",
    "    print(f'Accuracy for class: {classname:5s} is {accuracy:.1f} %')\n",
    "\n",
    "# print(total_pred)"
   ]
  },
  {
   "cell_type": "code",
   "execution_count": null,
   "metadata": {},
   "outputs": [],
   "source": []
  }
 ],
 "metadata": {
  "kernelspec": {
   "display_name": "mazerl",
   "language": "python",
   "name": "python3"
  },
  "language_info": {
   "codemirror_mode": {
    "name": "ipython",
    "version": 3
   },
   "file_extension": ".py",
   "mimetype": "text/x-python",
   "name": "python",
   "nbconvert_exporter": "python",
   "pygments_lexer": "ipython3",
   "version": "3.9.7"
  }
 },
 "nbformat": 4,
 "nbformat_minor": 2
}
