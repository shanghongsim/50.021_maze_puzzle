{
 "cells": [
  {
   "cell_type": "markdown",
   "metadata": {},
   "source": [
    "### 1. Load data"
   ]
  },
  {
   "cell_type": "code",
   "execution_count": 28,
   "metadata": {},
   "outputs": [],
   "source": [
    "import torch\n",
    "import torchvision\n",
    "import torchvision.transforms as transforms\n",
    "import matplotlib.pyplot as plt\n",
    "from torchsummary import summary\n",
    "import math\n",
    "from datasets import Dataset, Features, Array2D, Value, load_dataset, load_from_disk"
   ]
  },
  {
   "cell_type": "code",
   "execution_count": 29,
   "metadata": {},
   "outputs": [
    {
     "name": "stdout",
     "output_type": "stream",
     "text": [
      "(250000, 3)\n",
      "{'data': tensor([[1, 1, 1, 1, 1, 1, 1, 1, 1],\n",
      "        [1, 2, 1, 0, 0, 0, 0, 0, 1],\n",
      "        [1, 0, 1, 1, 1, 0, 1, 0, 1],\n",
      "        [1, 0, 0, 0, 0, 0, 1, 0, 1],\n",
      "        [1, 1, 1, 1, 1, 1, 1, 0, 1],\n",
      "        [1, 0, 0, 0, 1, 0, 0, 0, 1],\n",
      "        [1, 0, 1, 1, 1, 0, 1, 0, 1],\n",
      "        [1, 0, 0, 0, 0, 0, 1, 0, 1],\n",
      "        [1, 1, 1, 1, 1, 1, 1, 1, 1]]), 'filename': '/Users/victoriachong/Documents/SUTD/TERM 8/50.021 Artificial Intelligence/maze-puzzle/dataset/2.0/9x9/train_set9HnKgridsize_1_step0_DOWN', 'label': tensor(4)}\n"
     ]
    }
   ],
   "source": [
    "loaded_data = load_from_disk(\n",
    "        \"/Users/yijiachen/Desktop/50.021 Artificial Intelligence/Project/code/code-repo/dataset/even_label/9x9.hf\"\n",
    "    ).with_format(\"torch\")\n",
    "\n",
    "print(loaded_data.shape)\n",
    "print(loaded_data[0])"
   ]
  },
  {
   "cell_type": "code",
   "execution_count": 30,
   "metadata": {},
   "outputs": [],
   "source": [
    "batch_size = 4\n",
    "train_set_size = math.floor(0.8*loaded_data.shape[0])\n",
    "train_set, val_set = torch.utils.data.random_split(loaded_data, [train_set_size, loaded_data.shape[0] - train_set_size])\n",
    "trainLoader = torch.utils.data.DataLoader(train_set, batch_size=4, shuffle=True)\n",
    "testLoader = torch.utils.data.DataLoader(val_set, batch_size=4, shuffle=False)\n",
    "\n",
    "classes = ('END', 'LEFT', 'RIGHT', 'UP', 'DOWN')"
   ]
  },
  {
   "cell_type": "markdown",
   "metadata": {},
   "source": [
    "test the dataloader"
   ]
  },
  {
   "cell_type": "code",
   "execution_count": 24,
   "metadata": {},
   "outputs": [
    {
     "data": {
      "text/plain": [
       "(tensor(2), tensor(4), tensor(4), tensor(3))"
      ]
     },
     "execution_count": 24,
     "metadata": {},
     "output_type": "execute_result"
    },
    {
     "data": {
      "image/png": "[encoded data removed]",
      "text/plain": [
       "<Figure size 640x480 with 4 Axes>"
      ]
     },
     "metadata": {},
     "output_type": "display_data"
    }
   ],
   "source": [
    "# test the dataloader\n",
    "dataiter = iter(trainLoader)\n",
    "this_iter = next(dataiter)\n",
    "this_iter['data'], this_iter['label']\n",
    "# mazes, filenames, labels = next(dataiter)\n",
    "# mazes\n",
    "# this_iter\n",
    "\n",
    "fig, axes = plt.subplots(1,4)\n",
    "axes[0].imshow(this_iter['data'][0].numpy(), cmap='binary')\n",
    "axes[1].imshow(this_iter['data'][1].numpy(), cmap='binary')\n",
    "axes[2].imshow(this_iter['data'][2].numpy(), cmap='binary')\n",
    "axes[3].imshow(this_iter['data'][3].numpy(), cmap='binary')\n",
    "\n",
    "this_iter['label'][0], this_iter['label'][1], this_iter['label'][2], this_iter['label'][3]"
   ]
  },
  {
   "cell_type": "markdown",
   "metadata": {},
   "source": [
    "### 2. Define a Convolutional Neural Network"
   ]
  },
  {
   "cell_type": "markdown",
   "metadata": {},
   "source": [
    "Copy the neural network from the Neural Networks section before and modify it to take 3-channel images (instead of 1-channel images as it was defined)."
   ]
  },
  {
   "cell_type": "code",
   "execution_count": 25,
   "metadata": {},
   "outputs": [
    {
     "name": "stdout",
     "output_type": "stream",
     "text": [
      "Net(\n",
      "  (conv1): Conv2d(1, 6, kernel_size=(4, 4), stride=(1, 1))\n",
      "  (pool): MaxPool2d(kernel_size=2, stride=2, padding=0, dilation=1, ceil_mode=False)\n",
      "  (conv2): Conv2d(6, 16, kernel_size=(2, 2), stride=(1, 1))\n",
      "  (fc1): Linear(in_features=16, out_features=120, bias=True)\n",
      "  (fc2): Linear(in_features=120, out_features=84, bias=True)\n",
      "  (fc3): Linear(in_features=84, out_features=5, bias=True)\n",
      ")\n",
      "----------------------------------------------------------------\n",
      "        Layer (type)               Output Shape         Param #\n",
      "================================================================\n",
      "            Conv2d-1              [-1, 6, 6, 6]             102\n",
      "         MaxPool2d-2              [-1, 6, 3, 3]               0\n",
      "            Conv2d-3             [-1, 16, 2, 2]             400\n",
      "         MaxPool2d-4             [-1, 16, 1, 1]               0\n",
      "            Linear-5                  [-1, 120]           2,040\n",
      "            Linear-6                   [-1, 84]          10,164\n",
      "            Linear-7                    [-1, 5]             425\n",
      "================================================================\n",
      "Total params: 13,131\n",
      "Trainable params: 13,131\n",
      "Non-trainable params: 0\n",
      "----------------------------------------------------------------\n",
      "Input size (MB): 0.00\n",
      "Forward/backward pass size (MB): 0.00\n",
      "Params size (MB): 0.05\n",
      "Estimated Total Size (MB): 0.05\n",
      "----------------------------------------------------------------\n"
     ]
    }
   ],
   "source": [
    "import torch.nn as nn\n",
    "import torch.nn.functional as F\n",
    "\n",
    "\n",
    "class Net(nn.Module):\n",
    "    def __init__(self):\n",
    "        super().__init__()\n",
    "        self.conv1 = nn.Conv2d(1, 6, 4)\n",
    "        self.pool = nn.MaxPool2d(2, 2)\n",
    "        self.conv2 = nn.Conv2d(6, 16, 2)\n",
    "        self.fc1 = nn.Linear(16 * 1 * 1, 120)\n",
    "        self.fc2 = nn.Linear(120, 84)\n",
    "        self.fc3 = nn.Linear(84, 5)\n",
    "\n",
    "    def forward(self, x):\n",
    "        x = self.pool(F.relu(self.conv1(x)))\n",
    "        x = self.pool(F.relu(self.conv2(x)))\n",
    "        x = torch.flatten(x, 1) # flatten all dimensions except batch\n",
    "        x = F.relu(self.fc1(x))\n",
    "        x = F.relu(self.fc2(x))\n",
    "        x = self.fc3(x)\n",
    "        return x\n",
    "\n",
    "\n",
    "net = Net()\n",
    "print(net)\n",
    "n = 9\n",
    "summary(net, (1,n,n))"
   ]
  },
  {
   "cell_type": "markdown",
   "metadata": {},
   "source": [
    "### 3. Define a Loss function and optimizer"
   ]
  },
  {
   "cell_type": "markdown",
   "metadata": {},
   "source": [
    "Let’s use a Classification Cross-Entropy loss and SGD with momentum."
   ]
  },
  {
   "cell_type": "code",
   "execution_count": 26,
   "metadata": {},
   "outputs": [],
   "source": [
    "import torch.optim as optim\n",
    "\n",
    "criterion = nn.CrossEntropyLoss()\n",
    "optimizer = optim.SGD(net.parameters(), lr=0.001, momentum=0.9)"
   ]
  },
  {
   "cell_type": "markdown",
   "metadata": {},
   "source": [
    "### 4. Train the network"
   ]
  },
  {
   "cell_type": "code",
   "execution_count": 31,
   "metadata": {},
   "outputs": [
    {
     "name": "stdout",
     "output_type": "stream",
     "text": [
      "[1,  1000] loss: 0.421\n",
      "[1,  2000] loss: 0.389\n",
      "[1,  3000] loss: 0.358\n",
      "[1,  4000] loss: 0.365\n",
      "[1,  5000] loss: 0.341\n",
      "[1,  6000] loss: 0.314\n",
      "[1,  7000] loss: 0.311\n",
      "[1,  8000] loss: 0.299\n",
      "[1,  9000] loss: 0.265\n",
      "[1, 10000] loss: 0.266\n",
      "[1, 11000] loss: 0.245\n",
      "[1, 12000] loss: 0.231\n",
      "[1, 13000] loss: 0.216\n",
      "[1, 14000] loss: 0.202\n",
      "[1, 15000] loss: 0.185\n",
      "[1, 16000] loss: 0.200\n",
      "[1, 17000] loss: 0.184\n",
      "[1, 18000] loss: 0.176\n",
      "[1, 19000] loss: 0.179\n",
      "[1, 20000] loss: 0.163\n",
      "[1, 21000] loss: 0.176\n",
      "[1, 22000] loss: 0.151\n",
      "[1, 23000] loss: 0.146\n",
      "[1, 24000] loss: 0.155\n",
      "[1, 25000] loss: 0.151\n",
      "[1, 26000] loss: 0.158\n",
      "[1, 27000] loss: 0.135\n",
      "[1, 28000] loss: 0.141\n",
      "[1, 29000] loss: 0.131\n",
      "[1, 30000] loss: 0.134\n",
      "[1, 31000] loss: 0.118\n",
      "[1, 32000] loss: 0.143\n",
      "[1, 33000] loss: 0.125\n",
      "[1, 34000] loss: 0.134\n",
      "[1, 35000] loss: 0.132\n",
      "[1, 36000] loss: 0.118\n",
      "[1, 37000] loss: 0.117\n",
      "[1, 38000] loss: 0.115\n",
      "[1, 39000] loss: 0.120\n",
      "[1, 40000] loss: 0.120\n",
      "[1, 41000] loss: 0.116\n",
      "[1, 42000] loss: 0.125\n",
      "[1, 43000] loss: 0.108\n",
      "[1, 44000] loss: 0.110\n",
      "[1, 45000] loss: 0.113\n",
      "[1, 46000] loss: 0.114\n",
      "[1, 47000] loss: 0.107\n",
      "[1, 48000] loss: 0.110\n",
      "[1, 49000] loss: 0.099\n",
      "[1, 50000] loss: 0.103\n",
      "[2,  1000] loss: 0.100\n",
      "[2,  2000] loss: 0.124\n",
      "[2,  3000] loss: 0.117\n",
      "[2,  4000] loss: 0.112\n",
      "[2,  5000] loss: 0.104\n",
      "[2,  6000] loss: 0.090\n",
      "[2,  7000] loss: 0.081\n",
      "[2,  8000] loss: 0.108\n",
      "[2,  9000] loss: 0.087\n",
      "[2, 10000] loss: 0.106\n",
      "[2, 11000] loss: 0.098\n",
      "[2, 12000] loss: 0.099\n",
      "[2, 13000] loss: 0.094\n",
      "[2, 14000] loss: 0.088\n",
      "[2, 15000] loss: 0.088\n",
      "[2, 16000] loss: 0.082\n",
      "[2, 17000] loss: 0.106\n",
      "[2, 18000] loss: 0.080\n",
      "[2, 19000] loss: 0.086\n",
      "[2, 20000] loss: 0.099\n",
      "[2, 21000] loss: 0.090\n",
      "[2, 22000] loss: 0.088\n",
      "[2, 23000] loss: 0.087\n",
      "[2, 24000] loss: 0.085\n",
      "[2, 25000] loss: 0.091\n",
      "[2, 26000] loss: 0.083\n",
      "[2, 27000] loss: 0.085\n",
      "[2, 28000] loss: 0.076\n",
      "[2, 29000] loss: 0.087\n",
      "[2, 30000] loss: 0.087\n",
      "[2, 31000] loss: 0.084\n",
      "[2, 32000] loss: 0.092\n",
      "[2, 33000] loss: 0.093\n",
      "[2, 34000] loss: 0.092\n",
      "[2, 35000] loss: 0.075\n",
      "[2, 36000] loss: 0.068\n",
      "[2, 37000] loss: 0.079\n",
      "[2, 38000] loss: 0.071\n",
      "[2, 39000] loss: 0.078\n",
      "[2, 40000] loss: 0.072\n",
      "[2, 41000] loss: 0.083\n",
      "[2, 42000] loss: 0.073\n",
      "[2, 43000] loss: 0.085\n",
      "[2, 44000] loss: 0.080\n",
      "[2, 45000] loss: 0.069\n",
      "[2, 46000] loss: 0.084\n",
      "[2, 47000] loss: 0.074\n",
      "[2, 48000] loss: 0.076\n",
      "[2, 49000] loss: 0.071\n",
      "[2, 50000] loss: 0.083\n",
      "[3,  1000] loss: 0.075\n",
      "[3,  2000] loss: 0.084\n",
      "[3,  3000] loss: 0.070\n",
      "[3,  4000] loss: 0.075\n",
      "[3,  5000] loss: 0.069\n",
      "[3,  6000] loss: 0.084\n",
      "[3,  7000] loss: 0.074\n",
      "[3,  8000] loss: 0.063\n",
      "[3,  9000] loss: 0.072\n",
      "[3, 10000] loss: 0.074\n",
      "[3, 11000] loss: 0.065\n",
      "[3, 12000] loss: 0.068\n",
      "[3, 13000] loss: 0.058\n",
      "[3, 14000] loss: 0.085\n",
      "[3, 15000] loss: 0.075\n",
      "[3, 16000] loss: 0.075\n",
      "[3, 17000] loss: 0.070\n",
      "[3, 18000] loss: 0.069\n",
      "[3, 19000] loss: 0.078\n",
      "[3, 20000] loss: 0.073\n",
      "[3, 21000] loss: 0.064\n",
      "[3, 22000] loss: 0.065\n",
      "[3, 23000] loss: 0.070\n",
      "[3, 24000] loss: 0.071\n",
      "[3, 25000] loss: 0.068\n",
      "[3, 26000] loss: 0.068\n",
      "[3, 27000] loss: 0.076\n",
      "[3, 28000] loss: 0.056\n",
      "[3, 29000] loss: 0.074\n",
      "[3, 30000] loss: 0.065\n",
      "[3, 31000] loss: 0.078\n",
      "[3, 32000] loss: 0.071\n",
      "[3, 33000] loss: 0.062\n",
      "[3, 34000] loss: 0.062\n",
      "[3, 35000] loss: 0.073\n",
      "[3, 36000] loss: 0.060\n",
      "[3, 37000] loss: 0.063\n",
      "[3, 38000] loss: 0.061\n",
      "[3, 39000] loss: 0.057\n",
      "[3, 40000] loss: 0.072\n",
      "[3, 41000] loss: 0.069\n",
      "[3, 42000] loss: 0.063\n",
      "[3, 43000] loss: 0.053\n",
      "[3, 44000] loss: 0.076\n",
      "[3, 45000] loss: 0.058\n",
      "[3, 46000] loss: 0.056\n",
      "[3, 47000] loss: 0.065\n",
      "[3, 48000] loss: 0.060\n",
      "[3, 49000] loss: 0.064\n",
      "[3, 50000] loss: 0.055\n",
      "Finished Training\n"
     ]
    }
   ],
   "source": [
    "\n",
    "for epoch in range(3):  # loop over the dataset multiple times\n",
    "\n",
    "    running_loss = 0.0\n",
    "    for i, current_data in enumerate(trainLoader, 0):\n",
    "    # for i, data in enumerate(trainLoader, 0):\n",
    "        # get the inputs; data is a list of [inputs, labels]\n",
    "        # inputs, labels = data\n",
    "        # print(current_data)\n",
    "        inputs = current_data[\"data\"].float().reshape(-1, 1, n, n)\n",
    "        # print(inputs.shape)\n",
    "        labels = current_data[\"label\"]\n",
    "\n",
    "        # zero the parameter gradients\n",
    "        optimizer.zero_grad()\n",
    "\n",
    "        # forward + backward + optimize\n",
    "        outputs = net(inputs)\n",
    "        loss = criterion(outputs, labels)\n",
    "        loss.backward()\n",
    "        optimizer.step()\n",
    "\n",
    "        # print statistics\n",
    "        running_loss += loss.item()\n",
    "        if i % 1000 == 999:    # print every 2000 mini-batches\n",
    "            print(f'[{epoch + 1}, {i + 1:5d}] loss: {running_loss / 1000:.3f}')\n",
    "            running_loss = 0.0\n",
    "\n",
    "print('Finished Training')"
   ]
  },
  {
   "cell_type": "markdown",
   "metadata": {},
   "source": [
    "Save the trained model"
   ]
  },
  {
   "cell_type": "code",
   "execution_count": 32,
   "metadata": {},
   "outputs": [],
   "source": [
    "PATH = './maze_net9x9_even_label.pth'\n",
    "torch.save(net.state_dict(), PATH)"
   ]
  },
  {
   "cell_type": "markdown",
   "metadata": {},
   "source": [
    "### 5. Test the network on the test data"
   ]
  },
  {
   "cell_type": "markdown",
   "metadata": {},
   "source": [
    "display an image from the test set to get familiar"
   ]
  },
  {
   "cell_type": "markdown",
   "metadata": {},
   "source": [
    "load back in our saved model (note: saving and re-loading the model wasn’t necessary here, we only did it to illustrate how to do so)"
   ]
  },
  {
   "cell_type": "code",
   "execution_count": 33,
   "metadata": {},
   "outputs": [
    {
     "data": {
      "text/plain": [
       "(tensor(1), tensor(3), tensor(0), tensor(4))"
      ]
     },
     "execution_count": 33,
     "metadata": {},
     "output_type": "execute_result"
    },
    {
     "data": {
      "image/png": "[encoded data removed]",
      "text/plain": [
       "<Figure size 640x480 with 4 Axes>"
      ]
     },
     "metadata": {},
     "output_type": "display_data"
    }
   ],
   "source": [
    "dataiter_test = iter(testLoader)\n",
    "this_iter_test = next(dataiter_test)\n",
    "\n",
    "fig, axes = plt.subplots(1,4)\n",
    "axes[0].imshow(this_iter_test['data'][0].numpy(), cmap='binary')\n",
    "axes[1].imshow(this_iter_test['data'][1].numpy(), cmap='binary')\n",
    "axes[2].imshow(this_iter_test['data'][2].numpy(), cmap='binary')\n",
    "axes[3].imshow(this_iter_test['data'][3].numpy(), cmap='binary')\n",
    "\n",
    "this_iter_test['label'][0], this_iter_test['label'][1], this_iter_test['label'][2], this_iter_test['label'][3]"
   ]
  },
  {
   "cell_type": "code",
   "execution_count": 34,
   "metadata": {},
   "outputs": [
    {
     "data": {
      "text/plain": [
       "<All keys matched successfully>"
      ]
     },
     "execution_count": 34,
     "metadata": {},
     "output_type": "execute_result"
    }
   ],
   "source": [
    "net = Net()\n",
    "net.load_state_dict(torch.load(PATH))"
   ]
  },
  {
   "cell_type": "code",
   "execution_count": 36,
   "metadata": {},
   "outputs": [
    {
     "name": "stdout",
     "output_type": "stream",
     "text": [
      "Predicted:  DOWN  END   UP    END  \n"
     ]
    }
   ],
   "source": [
    "_, predicted = torch.max(outputs, 1)\n",
    "\n",
    "print('Predicted: ', ' '.join(f'{classes[predicted[j]]:5s}'\n",
    "                              for j in range(4)))"
   ]
  },
  {
   "cell_type": "markdown",
   "metadata": {},
   "source": [
    "Let us look at how the network performs on the whole dataset."
   ]
  },
  {
   "cell_type": "code",
   "execution_count": 37,
   "metadata": {},
   "outputs": [],
   "source": [
    "import numpy as np\n",
    "from sklearn.metrics import f1_score"
   ]
  },
  {
   "cell_type": "code",
   "execution_count": 51,
   "metadata": {},
   "outputs": [
    {
     "name": "stdout",
     "output_type": "stream",
     "text": [
      "Accuracy of the network on the test images: 97 %\n"
     ]
    }
   ],
   "source": [
    "correct = 0\n",
    "total = 0\n",
    "\n",
    "f1_true = None\n",
    "f1_predicted = None\n",
    "\n",
    "# since we're not training, we don't need to calculate the gradients for our outputs\n",
    "with torch.no_grad():\n",
    "    for current_data in testLoader:\n",
    "        mazes = current_data['data'].float().reshape(-1,1,n,n)\n",
    "        labels = current_data['label']\n",
    "        # calculate outputs by running images through the network\n",
    "        outputs = net(mazes)\n",
    "        # the class with the highest energy is what we choose as prediction\n",
    "        _, predicted = torch.max(outputs.data, 1)\n",
    "        total += labels.size(0)\n",
    "        correct += (predicted == labels).sum().item()\n",
    "\n",
    "        if f1_true is None:\n",
    "            f1_true = labels.detach().numpy()\n",
    "            f1_predicted = predicted.detach().numpy()\n",
    "        else:\n",
    "            f1_true = np.concatenate((f1_true, labels.detach().numpy()))\n",
    "            f1_predicted = np.concatenate((f1_predicted, predicted.detach().numpy()))\n",
    "\n",
    "print(f'Accuracy of the network on the test mazes: {100 * correct // total} %')\n",
    "\n",
    "# F1 score\n",
    "score = f1_score(f1_true, f1_predicted, average=\"macro\")\n",
    "print(f\"The F1 Score is: {score}\")"
   ]
  },
  {
   "cell_type": "code",
   "execution_count": 53,
   "metadata": {},
   "outputs": [
    {
     "name": "stdout",
     "output_type": "stream",
     "text": [
      "The F1 Score is: 0.9743766289125382\n"
     ]
    }
   ],
   "source": [
    "# F1 score\n",
    "score = f1_score(f1_true, f1_predicted, average=\"macro\")\n",
    "print(f\"The F1 Score is: {score}\")"
   ]
  },
  {
   "cell_type": "markdown",
   "metadata": {},
   "source": [
    "Hmmm, what are the classes that performed well, and the classes that did not perform well:"
   ]
  },
  {
   "cell_type": "code",
   "execution_count": 42,
   "metadata": {},
   "outputs": [
    {
     "name": "stdout",
     "output_type": "stream",
     "text": [
      "Accuracy for class: END   is 100.0 %\n",
      "Accuracy for class: LEFT  is 99.6 %\n",
      "Accuracy for class: RIGHT is 92.1 %\n",
      "Accuracy for class: UP    is 99.2 %\n",
      "Accuracy for class: DOWN  is 96.4 %\n"
     ]
    }
   ],
   "source": [
    "# prepare to count predictions for each class\n",
    "correct_pred = {classname: 0 for classname in classes}\n",
    "total_pred = {classname: 0 for classname in classes}\n",
    "\n",
    "\n",
    "\n",
    "# again no gradients needed\n",
    "with torch.no_grad():\n",
    "    for current_data in testLoader:\n",
    "        mazes = current_data['data'].float().reshape(-1,1,n,n)\n",
    "        labels = current_data['label']\n",
    "        outputs = net(mazes)\n",
    "        _, predictions = torch.max(outputs, 1)\n",
    "        # collect the correct predictions for each class\n",
    "        for label, prediction in zip(labels, predictions):\n",
    "            # print(label, prediction)\n",
    "            if label == prediction:\n",
    "                correct_pred[classes[label]] += 1\n",
    "            total_pred[classes[label]] += 1\n",
    "\n",
    "\n",
    "# print accuracy for each class\n",
    "for classname, correct_count in correct_pred.items():\n",
    "    accuracy = 100 * float(correct_count) / total_pred[classname]\n",
    "    print(f'Accuracy for class: {classname:5s} is {accuracy:.1f} %')\n",
    "\n",
    "# print(total_pred)"
   ]
  }
 ],
 "metadata": {
  "kernelspec": {
   "display_name": "mazerl",
   "language": "python",
   "name": "python3"
  },
  "language_info": {
   "codemirror_mode": {
    "name": "ipython",
    "version": 3
   },
   "file_extension": ".py",
   "mimetype": "text/x-python",
   "name": "python",
   "nbconvert_exporter": "python",
   "pygments_lexer": "ipython3",
   "version": "3.9.7"
  }
 },
 "nbformat": 4,
 "nbformat_minor": 2
}
